{
 "cells": [
  {
   "cell_type": "code",
<<<<<<< HEAD
   "execution_count": 5,
   "id": "50c376ed",
   "metadata": {},
   "outputs": [],
   "source": [
    "from torch.utils.data import DataLoader\n",
    "#from utils import CustomDataset, get_model, validate, data_loader\n",
    "import matplotlib.pyplot as plt\n",
    "from IPython.display import clear_output\n",
    "import numpy as np\n",
    "import pandas as pd\n",
    "import os\n",
    "\n",
    "import os\n",
    "import pandas as pd\n",
    "from IPython.display import clear_output\n",
    "import numpy as np\n",
    "from tqdm import tqdm\n",
    "import torch.nn as nn\n",
    "\n",
    "from timm.models.efficientnet import *\n",
    "import torchvision.models as models\n",
    "\n",
    "import torch\n",
    "import torch.nn.functional as F\n",
    "import albumentations as A\n",
    "\n",
    "import time\n",
    "\n",
    "from albumentations.pytorch.transforms import ToTensorV2\n",
    "import glob\n",
    "import cv2\n",
    "\n",
    "from tqdm import tqdm\n",
    "\n",
    "import models\n",
    "from monai.networks.nets import UNet, UNETR\n",
    "import dataset\n",
    "\n",
    "#from models.ternausnets import AlbuNet\n",
    "from models.selim_zoo.unet import Resnet\n",
    "\n",
    "import torch.nn.functional as F\n",
    "\n",
    "from monai.networks.nets import UNet\n",
    "from models import ternausnets\n",
    "from models.selim_zoo.unet import Resnet\n",
    "\n",
    "import torch\n",
    "from utils import losses\n",
    "\n",
    "import monai\n",
    "import model\n",
    "\n",
    "\n",
    "import pydicom"
   ]
  },
  {
   "cell_type": "code",
   "execution_count": 3,
   "id": "8f57a554",
   "metadata": {},
   "outputs": [],
   "source": [
    "class Model(torch.nn.Module):\n",
    "\n",
    "    def __init__(self, model):\n",
    "        super(Model, self).__init__()\n",
    "        self.model = model\n",
    "\n",
    "    def forward_once(self, x):\n",
    "        pred = self.model(x)\n",
    "        return pred\n",
    "\n",
    "    def forward(self, x_mlo, x_cc):\n",
    "        pred_mlo = self.forward_once(x_mlo)\n",
    "        pred_cc = self.forward_once(x_cc)\n",
    "\n",
    "        #vec_mlo = torch.sum(binarize_mask(pred_mlo), dim=(1, 2))\n",
    "        #vec_cc = torch.sum(binarize_mask(pred_cc), dim=(1, 2))\n",
    "\n",
    "        #vec_mlo = (vec_mlo - vec_mlo.mean()) / vec_mlo.std()\n",
    "        #vec_cc = (vec_cc - vec_cc.mean()) / vec_cc.std()\n",
    "\n",
    "        return pred_mlo, pred_cc#, None, None#vec_mlo, vec_cc\n",
    "model = UNet(\n",
    "    spatial_dims=2,\n",
    "    in_channels=3,\n",
    "    out_channels=1,\n",
    "    channels=(4, 8, 16, 32, 64, 128, 256),\n",
    "    strides=(2, 2, 2, 2, 2, 2),\n",
    ")\n",
    "model = Model(model)#MyModel(model, img_size=512)\n"
   ]
  },
  {
   "cell_type": "code",
   "execution_count": 4,
   "id": "af79cd32",
   "metadata": {},
   "outputs": [],
   "source": [
    "#df = pd.read_csv('./best_models/baseline_run.csv')"
   ]
  },
  {
   "cell_type": "code",
   "execution_count": null,
   "id": "210ebdd5",
   "metadata": {},
   "outputs": [],
   "source": []
  },
  {
   "cell_type": "code",
   "execution_count": 7,
   "id": "db5ebd9c",
   "metadata": {},
   "outputs": [],
   "source": [
    "pred_mlo = torch.rand(1, 1, 512, 512)\n",
    "pred_cc = torch.rand(1, 1, 512, 512)"
   ]
  },
  {
   "cell_type": "code",
   "execution_count": null,
   "id": "dec886a3",
   "metadata": {},
   "outputs": [],
   "source": []
  },
  {
   "cell_type": "code",
   "execution_count": 8,
   "id": "22e8da36",
   "metadata": {},
   "outputs": [],
   "source": [
    "vec_mlo = torch.sum(torch.sigmoid(pred_mlo), dim=(1, 2))\n",
    "vec_cc = torch.sum(torch.sigmoid(pred_cc), dim=(1, 2))\n"
   ]
  },
  {
   "cell_type": "code",
   "execution_count": 11,
   "id": "105c9e5d",
   "metadata": {},
   "outputs": [],
   "source": [
    "loss = torch.nn.MSELoss()"
   ]
  },
  {
   "cell_type": "code",
   "execution_count": 13,
   "id": "3f40b073",
   "metadata": {},
   "outputs": [
    {
     "data": {
      "text/plain": [
       "tensor(4.5731)"
      ]
     },
     "execution_count": 13,
     "metadata": {},
     "output_type": "execute_result"
    }
   ],
   "source": [
    "loss(vec_cc, vec_mlo)"
   ]
  },
  {
   "cell_type": "code",
   "execution_count": null,
   "id": "e9c603e7",
   "metadata": {},
   "outputs": [],
   "source": []
  },
  {
   "cell_type": "code",
   "execution_count": null,
   "id": "971e58a8",
   "metadata": {},
   "outputs": [],
   "source": []
  },
  {
   "cell_type": "code",
   "execution_count": 11,
   "id": "50f9d51d",
   "metadata": {},
   "outputs": [],
   "source": [
    "checkpoint = torch.load('./best_models/unet_cbis_fold0_dice_train0.020_val0.014_test0.017_stop207.pth')"
   ]
  },
  {
   "cell_type": "code",
   "execution_count": 12,
   "id": "ca42c3c5",
   "metadata": {},
   "outputs": [
    {
     "data": {
      "text/plain": [
       "<All keys matched successfully>"
      ]
     },
     "execution_count": 12,
     "metadata": {},
     "output_type": "execute_result"
    }
   ],
   "source": [
    "model.load_state_dict(checkpoint['model_state_dict'])"
   ]
  },
  {
   "cell_type": "code",
   "execution_count": null,
   "id": "c341f066",
   "metadata": {},
   "outputs": [],
   "source": []
  },
  {
   "cell_type": "code",
   "execution_count": 4,
   "id": "26d0a67a",
   "metadata": {},
   "outputs": [],
   "source": [
    "path = '/home/ibm_prod/projects/datasets/INBreast/AllDICOMs/'\n",
    "files_dcm = os.listdir(path)\n",
    "files_dcm = [f for f in files_dcm if f.endswith('.dcm')]\n",
    "image_path = '/home/ibm_prod/projects/datasets/INBreast/AllDICOMs/53587454_d2befe622e188943_MG_R_ML_ANON.dcm'"
   ]
  },
  {
   "cell_type": "code",
   "execution_count": 5,
   "id": "125cd931",
   "metadata": {},
   "outputs": [],
   "source": [
    "path_csv = '/home/ibm_prod/projects/datasets/INBreast/INbreast.csv'\n",
    "df = pd.read_csv(path_csv, sep=';')"
   ]
  },
  {
   "cell_type": "code",
   "execution_count": 6,
   "id": "adea6b7a",
   "metadata": {},
   "outputs": [
    {
     "data": {
      "text/plain": [
       "'/home/ibm_prod/projects/datasets/INBreast/AllDICOMs/50994408_cc9e66c5b31baab8_MG_R_CC_ANNON.dcm'"
      ]
     },
     "execution_count": 6,
     "metadata": {},
     "output_type": "execute_result"
    }
   ],
   "source": [
    "os.path.join(path, '50994408_cc9e66c5b31baab8_MG_R_CC_ANNON.dcm')"
   ]
  },
  {
   "cell_type": "code",
   "execution_count": 8,
   "id": "655930fa",
   "metadata": {},
   "outputs": [],
   "source": [
    "file_ids = [d.split('_')[0] for d in files_dcm if d.endswith('.dcm')]\n",
    "patient_ids = [d.split('_')[1] for d in files_dcm if d.endswith('.dcm')]\n",
    "\n",
    "\n",
    "side = [d.split('_')[3] for d in files_dcm if d.endswith('.dcm')]\n",
    "view = [d.split('_')[4] for d in files_dcm if d.endswith('.dcm')]\n",
    "\n",
    "\n",
    "dcm_file_id = pd.DataFrame(list(zip(patient_ids, file_ids, side, view)),\n",
    "               columns =['patient', 'file', 'side', 'view'])"
   ]
  },
  {
   "cell_type": "code",
   "execution_count": 9,
   "id": "a5f7e57b",
   "metadata": {},
   "outputs": [],
   "source": [
    "mask_names = os.listdir('/home/ibm_prod/projects/datasets/INBreast/extras/MassSegmentationMasks')\n",
    "mask_file_ids = [m.split('_')[0] for m in mask_names]"
   ]
  },
  {
   "cell_type": "code",
   "execution_count": 107,
   "id": "e8d51db7",
   "metadata": {},
   "outputs": [],
   "source": [
    "dcm_mask = dcm_file_id.loc[dcm_file_id['file'].isin(mask_file_ids)]#['dcm'].value_counts()\n"
   ]
  },
  {
   "cell_type": "code",
   "execution_count": 118,
   "id": "44b72587",
   "metadata": {},
   "outputs": [],
   "source": [
    "def get_mask(file, dir_path='/home/ibm_prod/projects/datasets/INBreast/extras/MassSegmentationMasks'):\n",
    "    mask = glob.glob(os.path.join(dir_path, f'{file}_mask.png'))[0]\n",
    "    return mask.split('/')[-1]\n",
    "def get_path(df_patient, view, side, path='/home/ibm_prod/projects/datasets/INBreast/AllDICOMs/'):\n",
    "        file = df_patient.loc[(df_patient.side == side) & (df_patient.view == view)]\n",
    "        if file.shape[0] == 0:\n",
    "            return None, None\n",
    "        else:\n",
    "            file = file.file.item()\n",
    "        file_path = glob.glob(os.path.join(path, f'{file}_{patient}_*_{side}*{view}*'))\n",
    "        mask = get_mask(file)\n",
    "        return file_path[0].split('/')[-1], mask"
   ]
  },
  {
   "cell_type": "code",
   "execution_count": 119,
   "id": "5b70c5d7",
   "metadata": {},
   "outputs": [],
   "source": [
    "ml_files = []\n",
    "cc_files = []\n",
    "ml_masks = []\n",
    "cc_masks = []\n",
    "for patient in patients:\n",
    "    df_patient = dcm_mask.loc[dcm_mask.patient == patient]\n",
    "    if df_patient.shape[0] == 4:\n",
    "        \n",
    "        file_r_cc, mask_cc = get_path(df_patient, 'CC', 'R')\n",
    "        cc_files.append(file_r_cc)\n",
    "        \n",
    "        file_r_ml, mask_ml = get_path(df_patient, 'ML', 'R')\n",
    "        ml_files.append(file_r_ml)\n",
    "        ml_masks.append(mask_ml)\n",
    "        cc_masks.append(mask_cc)\n",
    "        file_l_cc, mask_cc = get_path(df_patient, 'CC', 'L')\n",
    "        cc_files.append(file_l_cc)\n",
    "        file_l_ml, mask_ml = get_path(df_patient, 'ML', 'L')\n",
    "        ml_files.append(file_l_ml)\n",
    "        \n",
    "        ml_masks.append(mask_ml)\n",
    "        cc_masks.append(mask_cc)\n",
    "    \n",
    "    elif df_patient.shape[0] == 2:\n",
    "        \n",
    "        file_cc, mask_cc = get_path(df_patient, 'CC', 'R')\n",
    "        file_ml, mask_ml = get_path(df_patient, 'ML', 'R')\n",
    "        if file_cc is None or file_ml is None:\n",
    "            file_cc, mask_cc = get_path(df_patient, 'CC', 'L')\n",
    "            file_ml, mask_ml = get_path(df_patient, 'ML', 'L')\n",
    "            \n",
    "        cc_files.append(file_cc)\n",
    "        ml_files.append(file_ml)\n",
    "        ml_masks.append(mask_ml)\n",
    "        cc_masks.append(mask_cc)\n",
    "    elif df_patient.shape[0] == 3:\n",
    "        df_patient = df_patient.iloc[1:3]\n",
    "        file_cc,mask_cc = get_path(df_patient, 'CC', 'R')\n",
    "        file_ml, mask_ml = get_path(df_patient, 'ML', 'R')\n",
    "        if file_cc is None or file_ml is None:\n",
    "            file_cc,mask_cc = get_path(df_patient, 'CC', 'L')\n",
    "            file_ml,mask_ml = get_path(df_patient, 'ML', 'L')\n",
    "            \n",
    "        cc_files.append(file_cc)\n",
    "        ml_files.append(file_ml)\n",
    "        \n",
    "        ml_masks.append(mask_ml)\n",
    "        cc_masks.append(mask_cc)\n",
    "\n",
    "            \n",
    "    \n",
    "        \n",
    "                \n",
    "        "
   ]
  },
  {
   "cell_type": "code",
   "execution_count": 120,
   "id": "6e9854c2",
   "metadata": {},
   "outputs": [],
   "source": [
    "df_data = pd.DataFrame(list(zip(ml_files, cc_files, ml_masks, cc_masks)),\n",
    "               columns =['ML', 'CC', 'ML_mask', 'CC_mask'])"
   ]
  },
  {
   "cell_type": "code",
   "execution_count": 163,
   "id": "a007d46a",
   "metadata": {},
   "outputs": [],
   "source": [
    "#df_data.iloc[val_index]"
   ]
  },
  {
   "cell_type": "code",
   "execution_count": 274,
   "id": "abdea5fc",
   "metadata": {},
   "outputs": [],
   "source": [
    "import numpy as np\n",
    "import pydicom\n",
    "from pydicom.pixel_data_handlers.util import apply_voi_lut\n",
    "\n",
    "import matplotlib.pyplot as plt\n",
    "%matplotlib inline\n",
    "\n",
    "\n",
    "def read_xray(path, voi_lut = True, fix_monochrome = True):\n",
    "    dicom = pydicom.read_file(path)\n",
    "    \n",
    "    # VOI LUT (if available by DICOM device) is used to transform raw DICOM data to \"human-friendly\" view\n",
    "    if voi_lut:\n",
    "        data = apply_voi_lut(dicom.pixel_array, dicom)\n",
    "    else:\n",
    "        data = dicom.pixel_array\n",
    "    #print(data.shape)\n",
    "               \n",
    "    # depending on this value, X-ray may look inverted - fix that:\n",
    "    if fix_monochrome and dicom.PhotometricInterpretation == \"MONOCHROME1\":\n",
    "        print('I am here')\n",
    "        data = np.amax(data) - data\n",
    "        \n",
    "    data = data - np.min(data)\n",
    "    data = data / np.max(data)\n",
    "    data = (data * 255).astype(np.uint8)\n",
    "        \n",
    "    return data"
   ]
  },
  {
   "cell_type": "code",
   "execution_count": 267,
   "id": "1111ffb2",
   "metadata": {},
   "outputs": [],
   "source": [
    "path = '/home/ibm_prod/projects/datasets/INBreast/AllDICOMs/'\n",
    "\n",
    "path_save = '/home/ibm_prod/projects/datasets/INBreast/AllPNGs'"
   ]
  },
  {
   "cell_type": "code",
   "execution_count": 235,
   "id": "083b87f6",
   "metadata": {},
   "outputs": [
    {
     "data": {
      "text/plain": [
       "'20587664_f4b2d377f43ba0bd_MG_R_ML_ANON.dcm'"
      ]
     },
     "execution_count": 235,
     "metadata": {},
     "output_type": "execute_result"
    }
   ],
   "source": [
    "df_data['ML'].iloc[i]"
   ]
  },
  {
   "cell_type": "code",
   "execution_count": 240,
   "id": "75735b48",
   "metadata": {},
   "outputs": [],
   "source": [
    "from PIL import Image\n",
    "def create_name(dcm_file):\n",
    "    splits = dcm_file.split('_')\n",
    "    file_id = splits[0]\n",
    "    patient_id = splits[1]\n",
    "    side = splits[3]\n",
    "    view = splits[4]\n",
    "    file_name = f'{file_id}_{patient_id}_{side}_{view}.png'\n",
    "    return file_name\n",
    "    "
   ]
  },
  {
   "cell_type": "code",
   "execution_count": 265,
   "id": "be5f08a7",
   "metadata": {},
   "outputs": [],
   "source": [
    "df_dcm = pd.read_csv('./data.csv')"
   ]
  },
  {
   "cell_type": "code",
   "execution_count": null,
   "id": "55b75221",
   "metadata": {},
   "outputs": [],
   "source": []
  },
  {
   "cell_type": "code",
   "execution_count": 273,
   "id": "c807d12e",
   "metadata": {},
   "outputs": [
    {
     "name": "stdout",
     "output_type": "stream",
     "text": [
      "(4084, 3328)\n"
     ]
    }
   ],
   "source": [
    "for i in range(0, 52):\n",
    "    dcm_file = df_dcm['ML'].iloc[i]\n",
    "    data = read_xray(os.path.join(path, dcm_file))\n",
    "    file_name = create_name(dcm_file)\n",
    "    #file_path = os.path.join(path_save, file_name)\n",
    "    break\n",
    "    \n",
    "    \n",
    "#    im = Image.fromarray(data)\n",
    "#    im.save(file_path)\n",
    "    \n",
    "#    dcm_file = df_data['CC'].iloc[i]\n",
    "#    data = read_xray(os.path.join(path, dcm_file))\n",
    "#    file_name = create_name(dcm_file)\n",
    "#    file_path = os.path.join(path_save, file_name)\n",
    "    \n",
    "    \n",
    "#    im = Image.fromarray(data)\n",
    "#    im.save(file_path)\n",
    "\n",
    "    \n",
    "#    plt.figure(figsize=(16,9))\n",
    "#    plt.subplot(1, 2, 1)\n",
    "#    plt.imshow(data)\n",
    "#    plt.axis('off')\n",
    "    \n",
    "#    dcm_file = df_data['CC'].iloc[i]\n",
    "#    data = read_xray(os.path.join(path, dcm_file))\n",
    "    \n",
    "#    plt.subplot(1, 2, 2)\n",
    "#    plt.imshow(data)\n",
    "#    plt.axis('off')\n",
    "#    plt.show()\n",
    "#    clear_output(wait=True)"
   ]
  },
  {
   "cell_type": "code",
   "execution_count": null,
   "id": "9e9261ec",
   "metadata": {},
   "outputs": [],
   "source": []
  },
  {
   "cell_type": "code",
   "execution_count": 245,
   "id": "9a98e8ac",
   "metadata": {},
   "outputs": [],
   "source": [
    "for i in range(0, 52):\n",
    "    dcm_file = df_data['ML'].iloc[i]\n",
    "    file_name = create_name(dcm_file)\n",
    "#    df_data['ML'].iloc[i] = file_name\n",
    "    \n",
    "    dcm_file = df_data['CC'].iloc[i]\n",
    "    file_name = create_name(dcm_file)\n",
    "#    df_data['CC'].iloc[i] = file_name"
   ]
  },
  {
   "cell_type": "code",
   "execution_count": 247,
   "id": "6edead1a",
   "metadata": {},
   "outputs": [],
   "source": [
    "#df_data.to_csv('./data_png.csv', index=False)"
   ]
  },
  {
   "cell_type": "code",
   "execution_count": null,
   "id": "4e1d9819",
   "metadata": {},
   "outputs": [],
   "source": [
    "#from sklearn.model_selection import GroupKFold\n",
    "#skf = GroupKFold(n_splits=4)\n",
    "#fold = 0\n",
    "#for train_index, val_index in skf.split(df_data, groups=df_data['patient']):\n",
    "#    df_data.iloc[train_index].to_csv(f'/home/ibm_prod/projects/diplom/folds/inbreast/train{fold}.csv')\n",
    "#    df_data.iloc[val_index].to_csv(f'/home/ibm_prod/projects/diplom/folds/inbreast/val{fold}.csv')\n",
    "#    fold += 1\n",
    "    "
   ]
  },
  {
   "cell_type": "code",
   "execution_count": 276,
   "id": "8a802f7b",
   "metadata": {},
   "outputs": [],
   "source": [
    "png_files = os.listdir(path_save)"
   ]
  },
  {
   "cell_type": "code",
   "execution_count": 279,
   "id": "4c47b655",
   "metadata": {},
   "outputs": [],
   "source": [
    "mask_path = '/home/ibm_prod/projects/datasets/INBreast/extras/MassSegmentationMasks'\n",
    "mask_files = os.listdir(mask_path)"
   ]
  },
  {
   "cell_type": "code",
   "execution_count": 284,
   "id": "ebae1fe6",
   "metadata": {},
   "outputs": [
    {
     "data": {
      "image/png": "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\n",
      "text/plain": [
       "<Figure size 1152x648 with 4 Axes>"
      ]
     },
     "metadata": {
      "needs_background": "light"
     },
     "output_type": "display_data"
    }
   ],
   "source": [
    "for i in range(0, 52):\n",
    "    plt.figure(figsize=(16,9))\n",
    "    png_file = df_data['ML'].iloc[i]\n",
    "    path = os.path.join(path_save, png_file)\n",
    "    img_ml = cv2.imread(path, 0)\n",
    "    plt.subplot(2, 2, 1)\n",
    "    plt.imshow(img_ml)\n",
    "    plt.axis('off')\n",
    "    \n",
    "    mask_ml = df_data['ML_mask'].iloc[i]\n",
    "    path = os.path.join(mask_path, mask_ml)\n",
    "    mask_ml = cv2.imread(path, 0)\n",
    "    plt.subplot(2, 2, 2)\n",
    "    plt.imshow(mask_ml)\n",
    "    plt.axis('off')\n",
    "\n",
    "    \n",
    "    png_file = df_data['CC'].iloc[i]\n",
    "    path = os.path.join(path_save, png_file)\n",
    "    img_cc = cv2.imread(path, 0)\n",
    "    plt.subplot(2, 2, 3)\n",
    "    plt.imshow(img_cc)\n",
    "    plt.axis('off')\n",
    "    \n",
    "    mask_cc = df_data['CC_mask'].iloc[i]\n",
    "    path = os.path.join(mask_path, mask_cc)\n",
    "    mask_cc = cv2.imread(path, 0)\n",
    "    plt.subplot(2, 2, 4)\n",
    "    plt.imshow(mask_cc)\n",
    "    plt.axis('off')\n",
    "\n",
    "\n",
    "    \n",
    "    plt.show()\n",
    "    clear_output(wait=True)\n",
    "\n",
    "    \n"
   ]
  },
  {
   "cell_type": "code",
   "execution_count": null,
   "id": "a08eb00c",
   "metadata": {},
   "outputs": [],
   "source": []
  },
  {
   "cell_type": "code",
   "execution_count": 285,
   "id": "e11f3666",
   "metadata": {},
   "outputs": [],
   "source": [
    "path = '/home/ibm_prod/projects/datasets/cbis_ddsm/CBIS-DDSM'"
   ]
  },
  {
   "cell_type": "code",
   "execution_count": 287,
   "id": "6ecfe1e6",
   "metadata": {},
   "outputs": [
    {
     "data": {
      "text/plain": [
       "2242"
      ]
     },
     "execution_count": 287,
     "metadata": {},
     "output_type": "execute_result"
    }
   ],
   "source": [
    "len(os.listdir(path))"
   ]
  },
  {
   "cell_type": "code",
   "execution_count": 309,
   "id": "4df496fd",
   "metadata": {},
   "outputs": [],
   "source": [
    "from torch.utils.data import Dataset\n",
    "import cv2\n",
    "class InBreast(Dataset):\n",
    "    def __init__(self, fold = 0, root='/home/ibm_prod/projects/datasets/INBreast/', mode='train', transform=None):\n",
    "        \n",
    "        self.df = pd.read_csv(f'/home/ibm_prod/projects/diplom/folds/inbreast/{mode}{fold}.csv')\n",
    "        self.root = os.path.join(root, 'AllPNGs')\n",
    "        self.root_mask = os.path.join(root, 'extras', 'MassSegmentationMasks')\n",
    "        if transform is None:\n",
    "            self.transform = A.Compose([\n",
    "                A.Resize(1024, 1024),\n",
    "                ToTensorV2()\n",
    "            ], additional_targets={'image1': 'image', 'mask1': 'mask'})\n",
    "        else:\n",
    "            self.transform = transform\n",
    "        self.mode = mode\n",
    "\n",
    "    def __len__(self):\n",
    "        return len(self.df)\n",
    "\n",
    "    def read_img(self, path, mask=False):\n",
    "        img = cv2.imread(path, 0)\n",
    "        if not mask:\n",
    "            img = np.stack([img, img, img], axis=0)\n",
    "            img = np.moveaxis(img, 0, 2)\n",
    "        return img\n",
    "\n",
    "    def __getitem__(self, idx):\n",
    "        row = self.df.iloc[idx]\n",
    "\n",
    "        img_path_mlo = os.path.join(self.root, f'{row.ML}')\n",
    "        ml_file_id = row.ML.split('_')[0]\n",
    "        img_path_cc = os.path.join(self.root, f'{row.CC}')\n",
    "        cc_file_id = row.CC.split('_')[0]\n",
    "        img1 = self.read_img(img_path_mlo)\n",
    "        img2 = self.read_img(img_path_cc)\n",
    "        \n",
    "        \n",
    "    \n",
    "        mask_mlo = os.path.join(self.root_mask, f'{ml_file_id}_mask.png')\n",
    "        \n",
    "        mask_cc = os.path.join(self.root_mask, f'{cc_file_id}_mask.png')\n",
    "\n",
    "        mask1 = self.read_img(mask_mlo, mask=True)\n",
    "        mask2 = self.read_img(mask_cc, mask=True)\n",
    "\n",
    "        if self.transform:\n",
    "            transformed = self.transform(image=img1, mask=mask1, image1=img2, mask1=mask2)\n",
    "            img1, mask1 = transformed['image'], transformed['mask']\n",
    "            img2, mask2 = transformed['image1'], transformed['mask1']\n",
    "        img1 = (img1).to(torch.float32)\n",
    "        img1 = img1/255\n",
    "        #img1 = (img1 - torch.min(img1)) / (torch.max(img1) - torch.min(img1))\n",
    "\n",
    "        img2 = (img2).to(torch.float32)\n",
    "        img2 = img2/255\n",
    "        #img2 = (img2 - torch.min(img2)) / (torch.max(img2) - torch.min(img2))\n",
    "\n",
    "        mask1 = (mask1).to(torch.float32)\n",
    "        mask1 = mask1 / 255\n",
    "\n",
    "        mask2 = (mask2).to(torch.float32)\n",
    "        mask2 = mask2/255\n",
    "\n",
    "        return img1, img2, mask1[None,], mask2[None,]\n"
   ]
  },
  {
   "cell_type": "code",
   "execution_count": 310,
   "id": "b06e48df",
   "metadata": {},
   "outputs": [],
   "source": [
    "data = CustomDataset(mode='val')"
   ]
  },
  {
   "cell_type": "code",
   "execution_count": 311,
   "id": "96adfa1d",
   "metadata": {},
   "outputs": [
    {
     "data": {
      "image/png": "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\n",
      "text/plain": [
       "<Figure size 1152x648 with 4 Axes>"
      ]
     },
     "metadata": {
      "needs_background": "light"
     },
     "output_type": "display_data"
    }
   ],
   "source": [
    "for X, y, mask1, mask2 in data:\n",
    "    plt.figure(figsize=(16, 9))\n",
    "    plt.subplot(2, 2, 1)\n",
    "    plt.imshow(X[0].numpy(), cmap='gray')\n",
    "    plt.axis('off')\n",
    "    \n",
    "    plt.subplot(2, 2, 2)\n",
    "    plt.imshow(mask1[0].numpy(), cmap='gray')\n",
    "    plt.axis('off')\n",
    "\n",
    "    \n",
    "    plt.subplot(2, 2, 3)\n",
    "    plt.imshow(y[0].numpy(), cmap='gray')\n",
    "    plt.axis('off')\n",
    "    \n",
    "    plt.subplot(2, 2, 4)\n",
    "    plt.imshow(mask2[0].numpy(), cmap='gray')\n",
    "    plt.axis('off')\n",
    "\n",
    "\n",
    "    \n",
    "    plt.show()\n",
    "    clear_output(wait=True)\n",
    "\n",
    "    "
   ]
  },
  {
   "cell_type": "code",
   "execution_count": 4,
   "id": "a40b22b7",
   "metadata": {},
   "outputs": [],
   "source": [
    "train_loader, val_loader, test_loader = dataset.data_loader(fold=0, dataset='inbreast')"
   ]
  },
  {
   "cell_type": "code",
   "execution_count": 13,
   "id": "f82e4f2a",
   "metadata": {},
   "outputs": [
    {
     "name": "stderr",
     "output_type": "stream",
     "text": [
      "100%|████████████████████████████████████████████████████████████████████████████████████████████████████████████████████████████████████████████████████████████████████████| 2/2 [00:06<00:00,  3.29s/it]\n"
     ]
    }
   ],
   "source": [
    "for batch in tqdm(val_loader):\n",
    "    continue"
   ]
  },
  {
   "cell_type": "code",
   "execution_count": 6,
   "id": "f1de3a44",
   "metadata": {},
   "outputs": [],
   "source": [
    "X1, X2, y1, y2 = batch"
   ]
  },
  {
   "cell_type": "code",
   "execution_count": null,
   "id": "401dc28c",
   "metadata": {},
   "outputs": [],
   "source": []
  },
  {
   "cell_type": "code",
   "execution_count": 5,
   "id": "7f155801",
   "metadata": {},
   "outputs": [],
   "source": []
  },
  {
   "cell_type": "code",
   "execution_count": 13,
   "id": "7c4d639d",
   "metadata": {},
   "outputs": [],
   "source": [
    "df = pd.read_csv('/home/ibm_prod/projects/datasets/cbis_ddsm/mass_case_description_train_set.csv')"
   ]
  },
  {
   "cell_type": "code",
   "execution_count": 14,
   "id": "0f0a59af",
   "metadata": {},
   "outputs": [
    {
     "data": {
      "text/plain": [
       "691"
      ]
     },
     "execution_count": 14,
     "metadata": {},
     "output_type": "execute_result"
    }
   ],
   "source": [
    "len(df.patient_id.unique())"
   ]
  },
  {
   "cell_type": "code",
   "execution_count": 17,
   "id": "365f5cca",
   "metadata": {},
   "outputs": [],
   "source": [
    "my_dict = {}\n",
    "for patient in list(df['patient_id'].value_counts()):\n",
    "    if patient not in my_dict:\n",
    "        my_dict[patient] = 1\n",
    "    else:\n",
    "        my_dict[patient] += 1"
   ]
  },
  {
   "cell_type": "code",
   "execution_count": 18,
   "id": "69ffe81c",
   "metadata": {},
   "outputs": [
    {
     "data": {
      "text/plain": [
       "{14: 1, 12: 1, 6: 10, 5: 6, 4: 20, 3: 12, 2: 445, 1: 196}"
      ]
     },
     "execution_count": 18,
     "metadata": {},
     "output_type": "execute_result"
    }
   ],
   "source": [
    "my_dict"
   ]
  },
  {
   "cell_type": "code",
   "execution_count": 20,
   "id": "5c62784b",
   "metadata": {},
   "outputs": [
    {
     "data": {
      "text/html": [
       "<div>\n",
       "<style scoped>\n",
       "    .dataframe tbody tr th:only-of-type {\n",
       "        vertical-align: middle;\n",
       "    }\n",
       "\n",
       "    .dataframe tbody tr th {\n",
       "        vertical-align: top;\n",
       "    }\n",
       "\n",
       "    .dataframe thead th {\n",
       "        text-align: right;\n",
       "    }\n",
       "</style>\n",
       "<table border=\"1\" class=\"dataframe\">\n",
       "  <thead>\n",
       "    <tr style=\"text-align: right;\">\n",
       "      <th></th>\n",
       "      <th>patient_id</th>\n",
       "      <th>breast_density</th>\n",
       "      <th>left_or_right_breast</th>\n",
       "      <th>image_view</th>\n",
       "      <th>abnormality id</th>\n",
       "      <th>abnormality type</th>\n",
       "      <th>mass shape</th>\n",
       "      <th>mass margins</th>\n",
       "      <th>assessment</th>\n",
       "      <th>pathology</th>\n",
       "      <th>subtlety</th>\n",
       "      <th>image file path</th>\n",
       "      <th>cropped image file path</th>\n",
       "      <th>ROI mask file path</th>\n",
       "    </tr>\n",
       "  </thead>\n",
       "  <tbody>\n",
       "    <tr>\n",
       "      <th>78</th>\n",
       "      <td>P_00106</td>\n",
       "      <td>1</td>\n",
       "      <td>LEFT</td>\n",
       "      <td>CC</td>\n",
       "      <td>1</td>\n",
       "      <td>mass</td>\n",
       "      <td>LYMPH_NODE</td>\n",
       "      <td>CIRCUMSCRIBED</td>\n",
       "      <td>2</td>\n",
       "      <td>BENIGN_WITHOUT_CALLBACK</td>\n",
       "      <td>4</td>\n",
       "      <td>Mass-Training_P_00106_LEFT_CC/1.3.6.1.4.1.9590...</td>\n",
       "      <td>Mass-Training_P_00106_LEFT_CC_1/1.3.6.1.4.1.95...</td>\n",
       "      <td>Mass-Training_P_00106_LEFT_CC_1/1.3.6.1.4.1.95...</td>\n",
       "    </tr>\n",
       "    <tr>\n",
       "      <th>79</th>\n",
       "      <td>P_00106</td>\n",
       "      <td>1</td>\n",
       "      <td>LEFT</td>\n",
       "      <td>CC</td>\n",
       "      <td>2</td>\n",
       "      <td>mass</td>\n",
       "      <td>LYMPH_NODE</td>\n",
       "      <td>CIRCUMSCRIBED</td>\n",
       "      <td>2</td>\n",
       "      <td>BENIGN_WITHOUT_CALLBACK</td>\n",
       "      <td>4</td>\n",
       "      <td>Mass-Training_P_00106_LEFT_CC/1.3.6.1.4.1.9590...</td>\n",
       "      <td>Mass-Training_P_00106_LEFT_CC_2/1.3.6.1.4.1.95...</td>\n",
       "      <td>Mass-Training_P_00106_LEFT_CC_2/1.3.6.1.4.1.95...</td>\n",
       "    </tr>\n",
       "    <tr>\n",
       "      <th>80</th>\n",
       "      <td>P_00106</td>\n",
       "      <td>1</td>\n",
       "      <td>LEFT</td>\n",
       "      <td>CC</td>\n",
       "      <td>3</td>\n",
       "      <td>mass</td>\n",
       "      <td>LYMPH_NODE</td>\n",
       "      <td>CIRCUMSCRIBED</td>\n",
       "      <td>2</td>\n",
       "      <td>BENIGN_WITHOUT_CALLBACK</td>\n",
       "      <td>4</td>\n",
       "      <td>Mass-Training_P_00106_LEFT_CC/1.3.6.1.4.1.9590...</td>\n",
       "      <td>Mass-Training_P_00106_LEFT_CC_3/1.3.6.1.4.1.95...</td>\n",
       "      <td>Mass-Training_P_00106_LEFT_CC_3/1.3.6.1.4.1.95...</td>\n",
       "    </tr>\n",
       "    <tr>\n",
       "      <th>81</th>\n",
       "      <td>P_00106</td>\n",
       "      <td>1</td>\n",
       "      <td>LEFT</td>\n",
       "      <td>MLO</td>\n",
       "      <td>1</td>\n",
       "      <td>mass</td>\n",
       "      <td>LYMPH_NODE</td>\n",
       "      <td>CIRCUMSCRIBED</td>\n",
       "      <td>2</td>\n",
       "      <td>BENIGN_WITHOUT_CALLBACK</td>\n",
       "      <td>4</td>\n",
       "      <td>Mass-Training_P_00106_LEFT_MLO/1.3.6.1.4.1.959...</td>\n",
       "      <td>Mass-Training_P_00106_LEFT_MLO_1/1.3.6.1.4.1.9...</td>\n",
       "      <td>Mass-Training_P_00106_LEFT_MLO_1/1.3.6.1.4.1.9...</td>\n",
       "    </tr>\n",
       "    <tr>\n",
       "      <th>82</th>\n",
       "      <td>P_00106</td>\n",
       "      <td>1</td>\n",
       "      <td>LEFT</td>\n",
       "      <td>MLO</td>\n",
       "      <td>2</td>\n",
       "      <td>mass</td>\n",
       "      <td>LYMPH_NODE</td>\n",
       "      <td>CIRCUMSCRIBED</td>\n",
       "      <td>2</td>\n",
       "      <td>BENIGN_WITHOUT_CALLBACK</td>\n",
       "      <td>4</td>\n",
       "      <td>Mass-Training_P_00106_LEFT_MLO/1.3.6.1.4.1.959...</td>\n",
       "      <td>Mass-Training_P_00106_LEFT_MLO_2/1.3.6.1.4.1.9...</td>\n",
       "      <td>Mass-Training_P_00106_LEFT_MLO_2/1.3.6.1.4.1.9...</td>\n",
       "    </tr>\n",
       "    <tr>\n",
       "      <th>83</th>\n",
       "      <td>P_00106</td>\n",
       "      <td>1</td>\n",
       "      <td>LEFT</td>\n",
       "      <td>MLO</td>\n",
       "      <td>3</td>\n",
       "      <td>mass</td>\n",
       "      <td>LYMPH_NODE</td>\n",
       "      <td>CIRCUMSCRIBED</td>\n",
       "      <td>2</td>\n",
       "      <td>BENIGN_WITHOUT_CALLBACK</td>\n",
       "      <td>4</td>\n",
       "      <td>Mass-Training_P_00106_LEFT_MLO/1.3.6.1.4.1.959...</td>\n",
       "      <td>Mass-Training_P_00106_LEFT_MLO_3/1.3.6.1.4.1.9...</td>\n",
       "      <td>Mass-Training_P_00106_LEFT_MLO_3/1.3.6.1.4.1.9...</td>\n",
       "    </tr>\n",
       "    <tr>\n",
       "      <th>84</th>\n",
       "      <td>P_00106</td>\n",
       "      <td>1</td>\n",
       "      <td>LEFT</td>\n",
       "      <td>MLO</td>\n",
       "      <td>4</td>\n",
       "      <td>mass</td>\n",
       "      <td>LYMPH_NODE</td>\n",
       "      <td>CIRCUMSCRIBED</td>\n",
       "      <td>2</td>\n",
       "      <td>BENIGN_WITHOUT_CALLBACK</td>\n",
       "      <td>4</td>\n",
       "      <td>Mass-Training_P_00106_LEFT_MLO/1.3.6.1.4.1.959...</td>\n",
       "      <td>Mass-Training_P_00106_LEFT_MLO_4/1.3.6.1.4.1.9...</td>\n",
       "      <td>Mass-Training_P_00106_LEFT_MLO_4/1.3.6.1.4.1.9...</td>\n",
       "    </tr>\n",
       "    <tr>\n",
       "      <th>85</th>\n",
       "      <td>P_00106</td>\n",
       "      <td>1</td>\n",
       "      <td>LEFT</td>\n",
       "      <td>MLO</td>\n",
       "      <td>5</td>\n",
       "      <td>mass</td>\n",
       "      <td>LYMPH_NODE</td>\n",
       "      <td>CIRCUMSCRIBED</td>\n",
       "      <td>2</td>\n",
       "      <td>BENIGN_WITHOUT_CALLBACK</td>\n",
       "      <td>4</td>\n",
       "      <td>Mass-Training_P_00106_LEFT_MLO/1.3.6.1.4.1.959...</td>\n",
       "      <td>Mass-Training_P_00106_LEFT_MLO_5/1.3.6.1.4.1.9...</td>\n",
       "      <td>Mass-Training_P_00106_LEFT_MLO_5/1.3.6.1.4.1.9...</td>\n",
       "    </tr>\n",
       "    <tr>\n",
       "      <th>86</th>\n",
       "      <td>P_00106</td>\n",
       "      <td>1</td>\n",
       "      <td>RIGHT</td>\n",
       "      <td>CC</td>\n",
       "      <td>2</td>\n",
       "      <td>mass</td>\n",
       "      <td>LYMPH_NODE</td>\n",
       "      <td>CIRCUMSCRIBED</td>\n",
       "      <td>2</td>\n",
       "      <td>BENIGN_WITHOUT_CALLBACK</td>\n",
       "      <td>4</td>\n",
       "      <td>Mass-Training_P_00106_RIGHT_CC/1.3.6.1.4.1.959...</td>\n",
       "      <td>Mass-Training_P_00106_RIGHT_CC_2/1.3.6.1.4.1.9...</td>\n",
       "      <td>Mass-Training_P_00106_RIGHT_CC_2/1.3.6.1.4.1.9...</td>\n",
       "    </tr>\n",
       "    <tr>\n",
       "      <th>87</th>\n",
       "      <td>P_00106</td>\n",
       "      <td>1</td>\n",
       "      <td>RIGHT</td>\n",
       "      <td>CC</td>\n",
       "      <td>3</td>\n",
       "      <td>mass</td>\n",
       "      <td>LYMPH_NODE</td>\n",
       "      <td>CIRCUMSCRIBED</td>\n",
       "      <td>2</td>\n",
       "      <td>BENIGN_WITHOUT_CALLBACK</td>\n",
       "      <td>4</td>\n",
       "      <td>Mass-Training_P_00106_RIGHT_CC/1.3.6.1.4.1.959...</td>\n",
       "      <td>Mass-Training_P_00106_RIGHT_CC_3/1.3.6.1.4.1.9...</td>\n",
       "      <td>Mass-Training_P_00106_RIGHT_CC_3/1.3.6.1.4.1.9...</td>\n",
       "    </tr>\n",
       "    <tr>\n",
       "      <th>88</th>\n",
       "      <td>P_00106</td>\n",
       "      <td>1</td>\n",
       "      <td>RIGHT</td>\n",
       "      <td>CC</td>\n",
       "      <td>4</td>\n",
       "      <td>mass</td>\n",
       "      <td>LYMPH_NODE</td>\n",
       "      <td>CIRCUMSCRIBED</td>\n",
       "      <td>2</td>\n",
       "      <td>BENIGN_WITHOUT_CALLBACK</td>\n",
       "      <td>4</td>\n",
       "      <td>Mass-Training_P_00106_RIGHT_CC/1.3.6.1.4.1.959...</td>\n",
       "      <td>Mass-Training_P_00106_RIGHT_CC_4/1.3.6.1.4.1.9...</td>\n",
       "      <td>Mass-Training_P_00106_RIGHT_CC_4/1.3.6.1.4.1.9...</td>\n",
       "    </tr>\n",
       "    <tr>\n",
       "      <th>89</th>\n",
       "      <td>P_00106</td>\n",
       "      <td>1</td>\n",
       "      <td>RIGHT</td>\n",
       "      <td>MLO</td>\n",
       "      <td>1</td>\n",
       "      <td>mass</td>\n",
       "      <td>LYMPH_NODE</td>\n",
       "      <td>CIRCUMSCRIBED</td>\n",
       "      <td>2</td>\n",
       "      <td>BENIGN_WITHOUT_CALLBACK</td>\n",
       "      <td>4</td>\n",
       "      <td>Mass-Training_P_00106_RIGHT_MLO/1.3.6.1.4.1.95...</td>\n",
       "      <td>Mass-Training_P_00106_RIGHT_MLO_1/1.3.6.1.4.1....</td>\n",
       "      <td>Mass-Training_P_00106_RIGHT_MLO_1/1.3.6.1.4.1....</td>\n",
       "    </tr>\n",
       "    <tr>\n",
       "      <th>90</th>\n",
       "      <td>P_00106</td>\n",
       "      <td>1</td>\n",
       "      <td>RIGHT</td>\n",
       "      <td>MLO</td>\n",
       "      <td>2</td>\n",
       "      <td>mass</td>\n",
       "      <td>LYMPH_NODE</td>\n",
       "      <td>CIRCUMSCRIBED</td>\n",
       "      <td>2</td>\n",
       "      <td>BENIGN_WITHOUT_CALLBACK</td>\n",
       "      <td>4</td>\n",
       "      <td>Mass-Training_P_00106_RIGHT_MLO/1.3.6.1.4.1.95...</td>\n",
       "      <td>Mass-Training_P_00106_RIGHT_MLO_2/1.3.6.1.4.1....</td>\n",
       "      <td>Mass-Training_P_00106_RIGHT_MLO_2/1.3.6.1.4.1....</td>\n",
       "    </tr>\n",
       "    <tr>\n",
       "      <th>91</th>\n",
       "      <td>P_00106</td>\n",
       "      <td>1</td>\n",
       "      <td>RIGHT</td>\n",
       "      <td>MLO</td>\n",
       "      <td>3</td>\n",
       "      <td>mass</td>\n",
       "      <td>LYMPH_NODE</td>\n",
       "      <td>CIRCUMSCRIBED</td>\n",
       "      <td>2</td>\n",
       "      <td>BENIGN_WITHOUT_CALLBACK</td>\n",
       "      <td>4</td>\n",
       "      <td>Mass-Training_P_00106_RIGHT_MLO/1.3.6.1.4.1.95...</td>\n",
       "      <td>Mass-Training_P_00106_RIGHT_MLO_3/1.3.6.1.4.1....</td>\n",
       "      <td>Mass-Training_P_00106_RIGHT_MLO_3/1.3.6.1.4.1....</td>\n",
       "    </tr>\n",
       "  </tbody>\n",
       "</table>\n",
       "</div>"
      ],
      "text/plain": [
       "   patient_id  breast_density left_or_right_breast image_view  abnormality id  \\\n",
       "78    P_00106               1                 LEFT         CC               1   \n",
       "79    P_00106               1                 LEFT         CC               2   \n",
       "80    P_00106               1                 LEFT         CC               3   \n",
       "81    P_00106               1                 LEFT        MLO               1   \n",
       "82    P_00106               1                 LEFT        MLO               2   \n",
       "83    P_00106               1                 LEFT        MLO               3   \n",
       "84    P_00106               1                 LEFT        MLO               4   \n",
       "85    P_00106               1                 LEFT        MLO               5   \n",
       "86    P_00106               1                RIGHT         CC               2   \n",
       "87    P_00106               1                RIGHT         CC               3   \n",
       "88    P_00106               1                RIGHT         CC               4   \n",
       "89    P_00106               1                RIGHT        MLO               1   \n",
       "90    P_00106               1                RIGHT        MLO               2   \n",
       "91    P_00106               1                RIGHT        MLO               3   \n",
       "\n",
       "   abnormality type  mass shape   mass margins  assessment  \\\n",
       "78             mass  LYMPH_NODE  CIRCUMSCRIBED           2   \n",
       "79             mass  LYMPH_NODE  CIRCUMSCRIBED           2   \n",
       "80             mass  LYMPH_NODE  CIRCUMSCRIBED           2   \n",
       "81             mass  LYMPH_NODE  CIRCUMSCRIBED           2   \n",
       "82             mass  LYMPH_NODE  CIRCUMSCRIBED           2   \n",
       "83             mass  LYMPH_NODE  CIRCUMSCRIBED           2   \n",
       "84             mass  LYMPH_NODE  CIRCUMSCRIBED           2   \n",
       "85             mass  LYMPH_NODE  CIRCUMSCRIBED           2   \n",
       "86             mass  LYMPH_NODE  CIRCUMSCRIBED           2   \n",
       "87             mass  LYMPH_NODE  CIRCUMSCRIBED           2   \n",
       "88             mass  LYMPH_NODE  CIRCUMSCRIBED           2   \n",
       "89             mass  LYMPH_NODE  CIRCUMSCRIBED           2   \n",
       "90             mass  LYMPH_NODE  CIRCUMSCRIBED           2   \n",
       "91             mass  LYMPH_NODE  CIRCUMSCRIBED           2   \n",
       "\n",
       "                  pathology  subtlety  \\\n",
       "78  BENIGN_WITHOUT_CALLBACK         4   \n",
       "79  BENIGN_WITHOUT_CALLBACK         4   \n",
       "80  BENIGN_WITHOUT_CALLBACK         4   \n",
       "81  BENIGN_WITHOUT_CALLBACK         4   \n",
       "82  BENIGN_WITHOUT_CALLBACK         4   \n",
       "83  BENIGN_WITHOUT_CALLBACK         4   \n",
       "84  BENIGN_WITHOUT_CALLBACK         4   \n",
       "85  BENIGN_WITHOUT_CALLBACK         4   \n",
       "86  BENIGN_WITHOUT_CALLBACK         4   \n",
       "87  BENIGN_WITHOUT_CALLBACK         4   \n",
       "88  BENIGN_WITHOUT_CALLBACK         4   \n",
       "89  BENIGN_WITHOUT_CALLBACK         4   \n",
       "90  BENIGN_WITHOUT_CALLBACK         4   \n",
       "91  BENIGN_WITHOUT_CALLBACK         4   \n",
       "\n",
       "                                      image file path  \\\n",
       "78  Mass-Training_P_00106_LEFT_CC/1.3.6.1.4.1.9590...   \n",
       "79  Mass-Training_P_00106_LEFT_CC/1.3.6.1.4.1.9590...   \n",
       "80  Mass-Training_P_00106_LEFT_CC/1.3.6.1.4.1.9590...   \n",
       "81  Mass-Training_P_00106_LEFT_MLO/1.3.6.1.4.1.959...   \n",
       "82  Mass-Training_P_00106_LEFT_MLO/1.3.6.1.4.1.959...   \n",
       "83  Mass-Training_P_00106_LEFT_MLO/1.3.6.1.4.1.959...   \n",
       "84  Mass-Training_P_00106_LEFT_MLO/1.3.6.1.4.1.959...   \n",
       "85  Mass-Training_P_00106_LEFT_MLO/1.3.6.1.4.1.959...   \n",
       "86  Mass-Training_P_00106_RIGHT_CC/1.3.6.1.4.1.959...   \n",
       "87  Mass-Training_P_00106_RIGHT_CC/1.3.6.1.4.1.959...   \n",
       "88  Mass-Training_P_00106_RIGHT_CC/1.3.6.1.4.1.959...   \n",
       "89  Mass-Training_P_00106_RIGHT_MLO/1.3.6.1.4.1.95...   \n",
       "90  Mass-Training_P_00106_RIGHT_MLO/1.3.6.1.4.1.95...   \n",
       "91  Mass-Training_P_00106_RIGHT_MLO/1.3.6.1.4.1.95...   \n",
       "\n",
       "                              cropped image file path  \\\n",
       "78  Mass-Training_P_00106_LEFT_CC_1/1.3.6.1.4.1.95...   \n",
       "79  Mass-Training_P_00106_LEFT_CC_2/1.3.6.1.4.1.95...   \n",
       "80  Mass-Training_P_00106_LEFT_CC_3/1.3.6.1.4.1.95...   \n",
       "81  Mass-Training_P_00106_LEFT_MLO_1/1.3.6.1.4.1.9...   \n",
       "82  Mass-Training_P_00106_LEFT_MLO_2/1.3.6.1.4.1.9...   \n",
       "83  Mass-Training_P_00106_LEFT_MLO_3/1.3.6.1.4.1.9...   \n",
       "84  Mass-Training_P_00106_LEFT_MLO_4/1.3.6.1.4.1.9...   \n",
       "85  Mass-Training_P_00106_LEFT_MLO_5/1.3.6.1.4.1.9...   \n",
       "86  Mass-Training_P_00106_RIGHT_CC_2/1.3.6.1.4.1.9...   \n",
       "87  Mass-Training_P_00106_RIGHT_CC_3/1.3.6.1.4.1.9...   \n",
       "88  Mass-Training_P_00106_RIGHT_CC_4/1.3.6.1.4.1.9...   \n",
       "89  Mass-Training_P_00106_RIGHT_MLO_1/1.3.6.1.4.1....   \n",
       "90  Mass-Training_P_00106_RIGHT_MLO_2/1.3.6.1.4.1....   \n",
       "91  Mass-Training_P_00106_RIGHT_MLO_3/1.3.6.1.4.1....   \n",
       "\n",
       "                                   ROI mask file path  \n",
       "78  Mass-Training_P_00106_LEFT_CC_1/1.3.6.1.4.1.95...  \n",
       "79  Mass-Training_P_00106_LEFT_CC_2/1.3.6.1.4.1.95...  \n",
       "80  Mass-Training_P_00106_LEFT_CC_3/1.3.6.1.4.1.95...  \n",
       "81  Mass-Training_P_00106_LEFT_MLO_1/1.3.6.1.4.1.9...  \n",
       "82  Mass-Training_P_00106_LEFT_MLO_2/1.3.6.1.4.1.9...  \n",
       "83  Mass-Training_P_00106_LEFT_MLO_3/1.3.6.1.4.1.9...  \n",
       "84  Mass-Training_P_00106_LEFT_MLO_4/1.3.6.1.4.1.9...  \n",
       "85  Mass-Training_P_00106_LEFT_MLO_5/1.3.6.1.4.1.9...  \n",
       "86  Mass-Training_P_00106_RIGHT_CC_2/1.3.6.1.4.1.9...  \n",
       "87  Mass-Training_P_00106_RIGHT_CC_3/1.3.6.1.4.1.9...  \n",
       "88  Mass-Training_P_00106_RIGHT_CC_4/1.3.6.1.4.1.9...  \n",
       "89  Mass-Training_P_00106_RIGHT_MLO_1/1.3.6.1.4.1....  \n",
       "90  Mass-Training_P_00106_RIGHT_MLO_2/1.3.6.1.4.1....  \n",
       "91  Mass-Training_P_00106_RIGHT_MLO_3/1.3.6.1.4.1....  "
      ]
     },
     "execution_count": 20,
     "metadata": {},
     "output_type": "execute_result"
    }
   ],
   "source": [
    "df.loc[df['patient_id'] == 'P_00106']"
   ]
  },
  {
   "cell_type": "code",
   "execution_count": 48,
   "id": "9fb26c84",
   "metadata": {},
   "outputs": [],
   "source": [
    "path = '/home/ibm_prod/projects/datasets/cbis_ddsm/Mass_png/Train_FULL'\n",
    "df = pd.read_csv('/home/ibm_prod/projects/datasets/cbis_ddsm/mass_case_description_train_set.csv')"
   ]
  },
  {
   "cell_type": "code",
   "execution_count": 162,
   "id": "1f567332",
   "metadata": {},
   "outputs": [],
   "source": [
    "def get_dict_patient(df):\n",
    "    patients = list(df.patient_id.unique())\n",
    "\n",
    "    cnt_files = []\n",
    "    my_dict = {}\n",
    "    for patient in patients:\n",
    "        patient_num = patient.split('_')[1]\n",
    "        cnt = 0\n",
    "        my_dict[patient] = []\n",
    "        for file in os.listdir(path):\n",
    "            if file.split('_')[2] == patient_num:\n",
    "                cnt += 1\n",
    "                my_dict[patient].append(file)\n",
    "        cnt_files.append(cnt)\n",
    "    df_cnt = pd.DataFrame(list(zip(patients, cnt_files)),\n",
    "               columns =['patient', 'counts'])\n",
    "    return my_dict, df_cnt\n",
    "\n",
    "def remove_singles(my_dict):\n",
    "    to_pop = [k for k, v in my_dict.items() if len(v) == 1]\n",
    "    print(f'{len(to_pop)} elements will be removed')\n",
    "    for k in to_pop:\n",
    "        my_dict.pop(k)\n",
    "    return my_dict\n",
    "\n",
    "def split_mlo_cc(k, v, mlos, ccs):\n",
    "    \n",
    "    if not check(v[0], v[1]):\n",
    "        print(f'Uppps different side of breasts or same view of the breast  {k}')\n",
    "    \n",
    "    else:\n",
    "        patients.append(k)\n",
    "        for img in v:\n",
    "            side = img.split('_')[3]\n",
    "            view = img.split('_')[4]\n",
    "            if view == 'MLO':\n",
    "                mlos.append(img)\n",
    "            else:\n",
    "                ccs.append(img)\n",
    "    return mlos, ccs\n",
    "\n",
    "\n",
    "def check(first, second):\n",
    "    if first.split('_')[3] != second.split('_')[3]:\n",
    "        return False\n",
    "     \n",
    "    elif first.split('_')[4] == second.split('_')[4]:\n",
    "        return False\n",
    "    return True\n"
   ]
  },
  {
   "cell_type": "code",
   "execution_count": 170,
   "id": "2b23d182",
   "metadata": {},
   "outputs": [
    {
     "name": "stdout",
     "output_type": "stream",
     "text": [
      "55 elements will be removed\n"
     ]
    }
   ],
   "source": [
    "path = '/home/ibm_prod/projects/datasets/cbis_ddsm/Mass_png/Test_FULL'\n",
    "df = pd.read_csv('/home/ibm_prod/projects/datasets/cbis_ddsm/mass_case_description_test_set.csv')\n",
    "my_dict, df_cnt = get_dict_patient(df)\n",
    "my_dict = remove_singles(my_dict)"
   ]
  },
  {
   "cell_type": "code",
   "execution_count": 171,
   "id": "33715da8",
   "metadata": {},
   "outputs": [
    {
     "data": {
      "text/plain": [
       "2    137\n",
       "1     55\n",
       "4      5\n",
       "3      4\n",
       "Name: counts, dtype: int64"
      ]
     },
     "execution_count": 171,
     "metadata": {},
     "output_type": "execute_result"
    }
   ],
   "source": [
    "df_cnt.counts.value_counts()"
   ]
  },
  {
   "cell_type": "code",
   "execution_count": 172,
   "id": "bb5064fb",
   "metadata": {},
   "outputs": [
    {
     "data": {
      "text/plain": [
       "151"
      ]
     },
     "execution_count": 172,
     "metadata": {},
     "output_type": "execute_result"
    }
   ],
   "source": [
    "137 + 5 + 4 + 5"
   ]
  },
  {
   "cell_type": "code",
   "execution_count": 173,
   "id": "0e2c4069",
   "metadata": {},
   "outputs": [],
   "source": [
    "mlos = []\n",
    "ccs = []\n",
    "patients = []\n",
    "cnt = 0\n",
    "for k, v in my_dict.items():\n",
    "    if len(v) == 2:\n",
    "        mlos, ccs = split_mlo_cc(k=k, v=v, mlos=mlos, ccs=ccs)\n",
    "    elif len(v) == 3:\n",
    "        res = []\n",
    "        if check(v[0], v[1]):\n",
    "            res.append(v[0])\n",
    "            res.append(v[1])\n",
    "        elif check(v[1], v[2]):\n",
    "            res.append(v[1])\n",
    "            res.append(v[2])        \n",
    "        elif check(v[0], v[2]):\n",
    "            res.append(v[0])\n",
    "            res.append(v[2])\n",
    "        mlos, ccs = split_mlo_cc(k=k, v=res, mlos=mlos, ccs=ccs)\n",
    "    elif len(v) == 4:\n",
    "        res = []\n",
    "        if check(v[0], v[1]):\n",
    "            res.append(v[0])\n",
    "            res.append(v[1])\n",
    "            mlos, ccs = split_mlo_cc(k=k, v=res, mlos=mlos, ccs=ccs)\n",
    "            res = []\n",
    "            res.append(v[2])\n",
    "            res.append(v[3])\n",
    "            mlos, ccs = split_mlo_cc(k=k, v=res, mlos=mlos, ccs=ccs)\n",
    "        elif check(v[0], v[2]):\n",
    "            res.append(v[0])\n",
    "            res.append(v[2])\n",
    "            mlos, ccs = split_mlo_cc(k=k, v=res, mlos=mlos, ccs=ccs)\n",
    "            res = []\n",
    "            res.append(v[1])\n",
    "            res.append(v[3])\n",
    "            mlos, ccs = split_mlo_cc(k=k, v=res, mlos=mlos, ccs=ccs)\n",
    "\n",
    "        elif check(v[0], v[3]):\n",
    "            res.append(v[0])\n",
    "            res.append(v[3])\n",
    "            mlos, ccs = split_mlo_cc(k=k, v=res, mlos=mlos, ccs=ccs)\n",
    "            res = []\n",
    "            res.append(v[1])\n",
    "            res.append(v[2])\n",
    "            mlos, ccs = split_mlo_cc(k=k, v=res, mlos=mlos, ccs=ccs)\n",
    "        \n",
    "\n",
    "        \n"
   ]
  },
  {
   "cell_type": "code",
   "execution_count": 174,
   "id": "d599b37b",
   "metadata": {},
   "outputs": [],
   "source": [
    "df_patients = pd.DataFrame(list(zip(patients, mlos, ccs)),\n",
    "               columns =['patient', 'MLO', 'CC'])"
   ]
  },
  {
   "cell_type": "code",
   "execution_count": 176,
   "id": "e0843b63",
   "metadata": {},
   "outputs": [],
   "source": [
    "#df_patients.to_csv('./test_data.csv', index=False)"
   ]
  },
  {
   "cell_type": "code",
   "execution_count": 185,
   "id": "079116d7",
   "metadata": {},
   "outputs": [],
   "source": [
    "df_patients = pd.read_csv('./folds/train_data_cbis.csv')"
   ]
  },
  {
   "cell_type": "code",
   "execution_count": 217,
   "id": "23d3c96c",
   "metadata": {},
   "outputs": [
    {
     "data": {
      "text/html": [
       "<div>\n",
       "<style scoped>\n",
       "    .dataframe tbody tr th:only-of-type {\n",
       "        vertical-align: middle;\n",
       "    }\n",
       "\n",
       "    .dataframe tbody tr th {\n",
       "        vertical-align: top;\n",
       "    }\n",
       "\n",
       "    .dataframe thead th {\n",
       "        text-align: right;\n",
       "    }\n",
       "</style>\n",
       "<table border=\"1\" class=\"dataframe\">\n",
       "  <thead>\n",
       "    <tr style=\"text-align: right;\">\n",
       "      <th></th>\n",
       "      <th>patient</th>\n",
       "      <th>MLO</th>\n",
       "      <th>CC</th>\n",
       "    </tr>\n",
       "  </thead>\n",
       "  <tbody>\n",
       "    <tr>\n",
       "      <th>0</th>\n",
       "      <td>P_00001</td>\n",
       "      <td>Mass-Training_P_00001_LEFT_MLO_FULL.png</td>\n",
       "      <td>Mass-Training_P_00001_LEFT_CC_FULL.png</td>\n",
       "    </tr>\n",
       "    <tr>\n",
       "      <th>1</th>\n",
       "      <td>P_00004</td>\n",
       "      <td>Mass-Training_P_00004_LEFT_MLO_FULL.png</td>\n",
       "      <td>Mass-Training_P_00004_LEFT_CC_FULL.png</td>\n",
       "    </tr>\n",
       "    <tr>\n",
       "      <th>2</th>\n",
       "      <td>P_00009</td>\n",
       "      <td>Mass-Training_P_00009_RIGHT_MLO_FULL.png</td>\n",
       "      <td>Mass-Training_P_00009_RIGHT_CC_FULL.png</td>\n",
       "    </tr>\n",
       "    <tr>\n",
       "      <th>3</th>\n",
       "      <td>P_00018</td>\n",
       "      <td>Mass-Training_P_00018_RIGHT_MLO_FULL.png</td>\n",
       "      <td>Mass-Training_P_00018_RIGHT_CC_FULL.png</td>\n",
       "    </tr>\n",
       "    <tr>\n",
       "      <th>4</th>\n",
       "      <td>P_00021</td>\n",
       "      <td>Mass-Training_P_00021_LEFT_MLO_FULL.png</td>\n",
       "      <td>Mass-Training_P_00021_LEFT_CC_FULL.png</td>\n",
       "    </tr>\n",
       "    <tr>\n",
       "      <th>...</th>\n",
       "      <td>...</td>\n",
       "      <td>...</td>\n",
       "      <td>...</td>\n",
       "    </tr>\n",
       "    <tr>\n",
       "      <th>504</th>\n",
       "      <td>P_01946</td>\n",
       "      <td>Mass-Training_P_01946_RIGHT_MLO_FULL.png</td>\n",
       "      <td>Mass-Training_P_01946_RIGHT_CC_FULL.png</td>\n",
       "    </tr>\n",
       "    <tr>\n",
       "      <th>505</th>\n",
       "      <td>P_01981</td>\n",
       "      <td>Mass-Training_P_01981_RIGHT_MLO_FULL.png</td>\n",
       "      <td>Mass-Training_P_01981_RIGHT_CC_FULL.png</td>\n",
       "    </tr>\n",
       "    <tr>\n",
       "      <th>506</th>\n",
       "      <td>P_02033</td>\n",
       "      <td>Mass-Training_P_02033_RIGHT_MLO_FULL.png</td>\n",
       "      <td>Mass-Training_P_02033_RIGHT_CC_FULL.png</td>\n",
       "    </tr>\n",
       "    <tr>\n",
       "      <th>507</th>\n",
       "      <td>P_02079</td>\n",
       "      <td>Mass-Training_P_02079_RIGHT_MLO_FULL.png</td>\n",
       "      <td>Mass-Training_P_02079_RIGHT_CC_FULL.png</td>\n",
       "    </tr>\n",
       "    <tr>\n",
       "      <th>508</th>\n",
       "      <td>P_02092</td>\n",
       "      <td>Mass-Training_P_02092_LEFT_MLO_FULL.png</td>\n",
       "      <td>Mass-Training_P_02092_LEFT_CC_FULL.png</td>\n",
       "    </tr>\n",
       "  </tbody>\n",
       "</table>\n",
       "<p>509 rows × 3 columns</p>\n",
       "</div>"
      ],
      "text/plain": [
       "     patient                                       MLO  \\\n",
       "0    P_00001   Mass-Training_P_00001_LEFT_MLO_FULL.png   \n",
       "1    P_00004   Mass-Training_P_00004_LEFT_MLO_FULL.png   \n",
       "2    P_00009  Mass-Training_P_00009_RIGHT_MLO_FULL.png   \n",
       "3    P_00018  Mass-Training_P_00018_RIGHT_MLO_FULL.png   \n",
       "4    P_00021   Mass-Training_P_00021_LEFT_MLO_FULL.png   \n",
       "..       ...                                       ...   \n",
       "504  P_01946  Mass-Training_P_01946_RIGHT_MLO_FULL.png   \n",
       "505  P_01981  Mass-Training_P_01981_RIGHT_MLO_FULL.png   \n",
       "506  P_02033  Mass-Training_P_02033_RIGHT_MLO_FULL.png   \n",
       "507  P_02079  Mass-Training_P_02079_RIGHT_MLO_FULL.png   \n",
       "508  P_02092   Mass-Training_P_02092_LEFT_MLO_FULL.png   \n",
       "\n",
       "                                          CC  \n",
       "0     Mass-Training_P_00001_LEFT_CC_FULL.png  \n",
       "1     Mass-Training_P_00004_LEFT_CC_FULL.png  \n",
       "2    Mass-Training_P_00009_RIGHT_CC_FULL.png  \n",
       "3    Mass-Training_P_00018_RIGHT_CC_FULL.png  \n",
       "4     Mass-Training_P_00021_LEFT_CC_FULL.png  \n",
       "..                                       ...  \n",
       "504  Mass-Training_P_01946_RIGHT_CC_FULL.png  \n",
       "505  Mass-Training_P_01981_RIGHT_CC_FULL.png  \n",
       "506  Mass-Training_P_02033_RIGHT_CC_FULL.png  \n",
       "507  Mass-Training_P_02079_RIGHT_CC_FULL.png  \n",
       "508   Mass-Training_P_02092_LEFT_CC_FULL.png  \n",
       "\n",
       "[509 rows x 3 columns]"
      ]
     },
     "execution_count": 217,
     "metadata": {},
     "output_type": "execute_result"
    }
   ],
   "source": [
    "df_patients"
   ]
  },
  {
   "cell_type": "code",
   "execution_count": 226,
   "id": "41731e45",
   "metadata": {},
   "outputs": [],
   "source": [
    "from sklearn.model_selection import GroupKFold"
   ]
  },
  {
   "cell_type": "code",
   "execution_count": 227,
   "id": "9c49404c",
   "metadata": {},
   "outputs": [],
   "source": [
    "group_kfold = GroupKFold(n_splits=5)"
   ]
  },
  {
   "cell_type": "code",
   "execution_count": 228,
   "id": "6428921f",
   "metadata": {},
   "outputs": [],
   "source": [
    "fold = 0\n",
    "for train_index, val_index in group_kfold.split(df_patients, groups=df_patients['patient']):\n",
    "    df_patients.iloc[train_index].to_csv(f'/home/ibm_prod/projects/diplom/folds/cbis/train{fold}.csv', index=False)\n",
    "    df_patients.iloc[val_index].to_csv(f'/home/ibm_prod/projects/diplom/folds/cbis/val{fold}.csv', index=False)\n",
    "    fold += 1"
   ]
  },
  {
   "cell_type": "code",
   "execution_count": 229,
   "id": "1975c942",
   "metadata": {},
   "outputs": [],
   "source": [
    "df = pd.read_csv('/home/ibm_prod/projects/diplom/folds/cbis/train4.csv')"
   ]
  },
  {
   "cell_type": "code",
   "execution_count": 230,
   "id": "e8a0f1f5",
   "metadata": {},
   "outputs": [
    {
     "data": {
      "text/html": [
       "<div>\n",
       "<style scoped>\n",
       "    .dataframe tbody tr th:only-of-type {\n",
       "        vertical-align: middle;\n",
       "    }\n",
       "\n",
       "    .dataframe tbody tr th {\n",
       "        vertical-align: top;\n",
       "    }\n",
       "\n",
       "    .dataframe thead th {\n",
       "        text-align: right;\n",
       "    }\n",
       "</style>\n",
       "<table border=\"1\" class=\"dataframe\">\n",
       "  <thead>\n",
       "    <tr style=\"text-align: right;\">\n",
       "      <th></th>\n",
       "      <th>patient</th>\n",
       "      <th>MLO</th>\n",
       "      <th>CC</th>\n",
       "    </tr>\n",
       "  </thead>\n",
       "  <tbody>\n",
       "    <tr>\n",
       "      <th>0</th>\n",
       "      <td>P_00001</td>\n",
       "      <td>Mass-Training_P_00001_LEFT_MLO_FULL.png</td>\n",
       "      <td>Mass-Training_P_00001_LEFT_CC_FULL.png</td>\n",
       "    </tr>\n",
       "    <tr>\n",
       "      <th>1</th>\n",
       "      <td>P_00004</td>\n",
       "      <td>Mass-Training_P_00004_LEFT_MLO_FULL.png</td>\n",
       "      <td>Mass-Training_P_00004_LEFT_CC_FULL.png</td>\n",
       "    </tr>\n",
       "    <tr>\n",
       "      <th>2</th>\n",
       "      <td>P_00009</td>\n",
       "      <td>Mass-Training_P_00009_RIGHT_MLO_FULL.png</td>\n",
       "      <td>Mass-Training_P_00009_RIGHT_CC_FULL.png</td>\n",
       "    </tr>\n",
       "    <tr>\n",
       "      <th>3</th>\n",
       "      <td>P_00021</td>\n",
       "      <td>Mass-Training_P_00021_LEFT_MLO_FULL.png</td>\n",
       "      <td>Mass-Training_P_00021_LEFT_CC_FULL.png</td>\n",
       "    </tr>\n",
       "    <tr>\n",
       "      <th>4</th>\n",
       "      <td>P_00021</td>\n",
       "      <td>Mass-Training_P_00021_RIGHT_MLO_FULL.png</td>\n",
       "      <td>Mass-Training_P_00021_RIGHT_CC_FULL.png</td>\n",
       "    </tr>\n",
       "    <tr>\n",
       "      <th>...</th>\n",
       "      <td>...</td>\n",
       "      <td>...</td>\n",
       "      <td>...</td>\n",
       "    </tr>\n",
       "    <tr>\n",
       "      <th>403</th>\n",
       "      <td>P_01889</td>\n",
       "      <td>Mass-Training_P_01889_RIGHT_MLO_FULL.png</td>\n",
       "      <td>Mass-Training_P_01889_RIGHT_CC_FULL.png</td>\n",
       "    </tr>\n",
       "    <tr>\n",
       "      <th>404</th>\n",
       "      <td>P_01981</td>\n",
       "      <td>Mass-Training_P_01981_RIGHT_MLO_FULL.png</td>\n",
       "      <td>Mass-Training_P_01981_RIGHT_CC_FULL.png</td>\n",
       "    </tr>\n",
       "    <tr>\n",
       "      <th>405</th>\n",
       "      <td>P_02033</td>\n",
       "      <td>Mass-Training_P_02033_RIGHT_MLO_FULL.png</td>\n",
       "      <td>Mass-Training_P_02033_RIGHT_CC_FULL.png</td>\n",
       "    </tr>\n",
       "    <tr>\n",
       "      <th>406</th>\n",
       "      <td>P_02079</td>\n",
       "      <td>Mass-Training_P_02079_RIGHT_MLO_FULL.png</td>\n",
       "      <td>Mass-Training_P_02079_RIGHT_CC_FULL.png</td>\n",
       "    </tr>\n",
       "    <tr>\n",
       "      <th>407</th>\n",
       "      <td>P_02092</td>\n",
       "      <td>Mass-Training_P_02092_LEFT_MLO_FULL.png</td>\n",
       "      <td>Mass-Training_P_02092_LEFT_CC_FULL.png</td>\n",
       "    </tr>\n",
       "  </tbody>\n",
       "</table>\n",
       "<p>408 rows × 3 columns</p>\n",
       "</div>"
      ],
      "text/plain": [
       "     patient                                       MLO  \\\n",
       "0    P_00001   Mass-Training_P_00001_LEFT_MLO_FULL.png   \n",
       "1    P_00004   Mass-Training_P_00004_LEFT_MLO_FULL.png   \n",
       "2    P_00009  Mass-Training_P_00009_RIGHT_MLO_FULL.png   \n",
       "3    P_00021   Mass-Training_P_00021_LEFT_MLO_FULL.png   \n",
       "4    P_00021  Mass-Training_P_00021_RIGHT_MLO_FULL.png   \n",
       "..       ...                                       ...   \n",
       "403  P_01889  Mass-Training_P_01889_RIGHT_MLO_FULL.png   \n",
       "404  P_01981  Mass-Training_P_01981_RIGHT_MLO_FULL.png   \n",
       "405  P_02033  Mass-Training_P_02033_RIGHT_MLO_FULL.png   \n",
       "406  P_02079  Mass-Training_P_02079_RIGHT_MLO_FULL.png   \n",
       "407  P_02092   Mass-Training_P_02092_LEFT_MLO_FULL.png   \n",
       "\n",
       "                                          CC  \n",
       "0     Mass-Training_P_00001_LEFT_CC_FULL.png  \n",
       "1     Mass-Training_P_00004_LEFT_CC_FULL.png  \n",
       "2    Mass-Training_P_00009_RIGHT_CC_FULL.png  \n",
       "3     Mass-Training_P_00021_LEFT_CC_FULL.png  \n",
       "4    Mass-Training_P_00021_RIGHT_CC_FULL.png  \n",
       "..                                       ...  \n",
       "403  Mass-Training_P_01889_RIGHT_CC_FULL.png  \n",
       "404  Mass-Training_P_01981_RIGHT_CC_FULL.png  \n",
       "405  Mass-Training_P_02033_RIGHT_CC_FULL.png  \n",
       "406  Mass-Training_P_02079_RIGHT_CC_FULL.png  \n",
       "407   Mass-Training_P_02092_LEFT_CC_FULL.png  \n",
       "\n",
       "[408 rows x 3 columns]"
      ]
     },
     "execution_count": 230,
     "metadata": {},
     "output_type": "execute_result"
    }
   ],
   "source": [
    "df"
   ]
  },
  {
   "cell_type": "code",
   "execution_count": 232,
   "id": "c3906933",
   "metadata": {},
   "outputs": [
    {
     "data": {
      "text/plain": [
       "'train'"
      ]
     },
     "execution_count": 232,
     "metadata": {},
     "output_type": "execute_result"
    }
   ],
   "source": [
    "'Train'.lower()"
   ]
  },
  {
   "cell_type": "code",
   "execution_count": 19,
   "id": "6a2a9305",
   "metadata": {},
   "outputs": [],
   "source": [
    "import segmentation_models_pytorch as smp\n",
    "\n",
    "model = smp.UnetPlusPlus(\n",
    "    encoder_name=\"resnet50\",      \n",
    "    encoder_weights=\"imagenet\",     \n",
    "    in_channels=3,                  \n",
    "    classes=1,                      \n",
    ")"
   ]
  },
  {
   "cell_type": "code",
   "execution_count": 20,
   "id": "485eb0d3",
   "metadata": {},
   "outputs": [
    {
     "data": {
      "text/plain": [
       "48985745"
      ]
     },
     "execution_count": 20,
     "metadata": {},
     "output_type": "execute_result"
    }
   ],
   "source": [
    "sum(p.numel() for p in model.parameters())"
   ]
  },
  {
   "cell_type": "code",
   "execution_count": null,
   "id": "220b94ca",
   "metadata": {},
   "outputs": [],
   "source": []
  },
  {
   "cell_type": "code",
   "execution_count": 421,
   "id": "94a6a0cc",
   "metadata": {},
   "outputs": [
    {
     "name": "stderr",
     "output_type": "stream",
     "text": [
      "  0%|                                                                                                                                                                              | 0/102 [00:00<?, ?it/s]\n"
     ]
    }
   ],
   "source": [
    "for batch in tqdm(dataset):\n",
    "    img1, img2, y1, y2 = batch\n",
    "    break"
   ]
  },
  {
   "cell_type": "code",
   "execution_count": 418,
   "id": "80096a4d",
   "metadata": {},
   "outputs": [
    {
     "ename": "KeyboardInterrupt",
     "evalue": "",
     "output_type": "error",
     "traceback": [
      "\u001b[0;31m---------------------------------------------------------------------------\u001b[0m",
      "\u001b[0;31mKeyboardInterrupt\u001b[0m                         Traceback (most recent call last)",
      "\u001b[0;32m/tmp/ipykernel_44066/3701495244.py\u001b[0m in \u001b[0;36m<module>\u001b[0;34m\u001b[0m\n\u001b[1;32m     19\u001b[0m     \u001b[0mplt\u001b[0m\u001b[0;34m.\u001b[0m\u001b[0mtitle\u001b[0m\u001b[0;34m(\u001b[0m\u001b[0;34m'CC mask'\u001b[0m\u001b[0;34m)\u001b[0m\u001b[0;34m\u001b[0m\u001b[0;34m\u001b[0m\u001b[0m\n\u001b[1;32m     20\u001b[0m     \u001b[0mplt\u001b[0m\u001b[0;34m.\u001b[0m\u001b[0maxis\u001b[0m\u001b[0;34m(\u001b[0m\u001b[0;34m'off'\u001b[0m\u001b[0;34m)\u001b[0m\u001b[0;34m\u001b[0m\u001b[0;34m\u001b[0m\u001b[0m\n\u001b[0;32m---> 21\u001b[0;31m     \u001b[0mplt\u001b[0m\u001b[0;34m.\u001b[0m\u001b[0mshow\u001b[0m\u001b[0;34m(\u001b[0m\u001b[0;34m)\u001b[0m\u001b[0;34m\u001b[0m\u001b[0;34m\u001b[0m\u001b[0m\n\u001b[0m\u001b[1;32m     22\u001b[0m     \u001b[0mtime\u001b[0m\u001b[0;34m.\u001b[0m\u001b[0msleep\u001b[0m\u001b[0;34m(\u001b[0m\u001b[0;36m1\u001b[0m\u001b[0;34m)\u001b[0m\u001b[0;34m\u001b[0m\u001b[0;34m\u001b[0m\u001b[0m\n\u001b[1;32m     23\u001b[0m     \u001b[0mclear_output\u001b[0m\u001b[0;34m(\u001b[0m\u001b[0mwait\u001b[0m\u001b[0;34m=\u001b[0m\u001b[0;32mTrue\u001b[0m\u001b[0;34m)\u001b[0m\u001b[0;34m\u001b[0m\u001b[0;34m\u001b[0m\u001b[0m\n",
      "\u001b[0;32m~/anaconda3/envs/myenv/lib/python3.7/site-packages/matplotlib/pyplot.py\u001b[0m in \u001b[0;36mshow\u001b[0;34m(*args, **kwargs)\u001b[0m\n\u001b[1;32m    351\u001b[0m     \"\"\"\n\u001b[1;32m    352\u001b[0m     \u001b[0m_warn_if_gui_out_of_main_thread\u001b[0m\u001b[0;34m(\u001b[0m\u001b[0;34m)\u001b[0m\u001b[0;34m\u001b[0m\u001b[0;34m\u001b[0m\u001b[0m\n\u001b[0;32m--> 353\u001b[0;31m     \u001b[0;32mreturn\u001b[0m \u001b[0m_backend_mod\u001b[0m\u001b[0;34m.\u001b[0m\u001b[0mshow\u001b[0m\u001b[0;34m(\u001b[0m\u001b[0;34m*\u001b[0m\u001b[0margs\u001b[0m\u001b[0;34m,\u001b[0m \u001b[0;34m**\u001b[0m\u001b[0mkwargs\u001b[0m\u001b[0;34m)\u001b[0m\u001b[0;34m\u001b[0m\u001b[0;34m\u001b[0m\u001b[0m\n\u001b[0m\u001b[1;32m    354\u001b[0m \u001b[0;34m\u001b[0m\u001b[0m\n\u001b[1;32m    355\u001b[0m \u001b[0;34m\u001b[0m\u001b[0m\n",
      "\u001b[0;32m~/anaconda3/envs/myenv/lib/python3.7/site-packages/matplotlib_inline/backend_inline.py\u001b[0m in \u001b[0;36mshow\u001b[0;34m(close, block)\u001b[0m\n\u001b[1;32m     41\u001b[0m             display(\n\u001b[1;32m     42\u001b[0m                 \u001b[0mfigure_manager\u001b[0m\u001b[0;34m.\u001b[0m\u001b[0mcanvas\u001b[0m\u001b[0;34m.\u001b[0m\u001b[0mfigure\u001b[0m\u001b[0;34m,\u001b[0m\u001b[0;34m\u001b[0m\u001b[0;34m\u001b[0m\u001b[0m\n\u001b[0;32m---> 43\u001b[0;31m                 \u001b[0mmetadata\u001b[0m\u001b[0;34m=\u001b[0m\u001b[0m_fetch_figure_metadata\u001b[0m\u001b[0;34m(\u001b[0m\u001b[0mfigure_manager\u001b[0m\u001b[0;34m.\u001b[0m\u001b[0mcanvas\u001b[0m\u001b[0;34m.\u001b[0m\u001b[0mfigure\u001b[0m\u001b[0;34m)\u001b[0m\u001b[0;34m\u001b[0m\u001b[0;34m\u001b[0m\u001b[0m\n\u001b[0m\u001b[1;32m     44\u001b[0m             )\n\u001b[1;32m     45\u001b[0m     \u001b[0;32mfinally\u001b[0m\u001b[0;34m:\u001b[0m\u001b[0;34m\u001b[0m\u001b[0;34m\u001b[0m\u001b[0m\n",
      "\u001b[0;32m~/anaconda3/envs/myenv/lib/python3.7/site-packages/IPython/core/display.py\u001b[0m in \u001b[0;36mdisplay\u001b[0;34m(include, exclude, metadata, transient, display_id, *objs, **kwargs)\u001b[0m\n\u001b[1;32m    318\u001b[0m             \u001b[0mpublish_display_data\u001b[0m\u001b[0;34m(\u001b[0m\u001b[0mdata\u001b[0m\u001b[0;34m=\u001b[0m\u001b[0mobj\u001b[0m\u001b[0;34m,\u001b[0m \u001b[0mmetadata\u001b[0m\u001b[0;34m=\u001b[0m\u001b[0mmetadata\u001b[0m\u001b[0;34m,\u001b[0m \u001b[0;34m**\u001b[0m\u001b[0mkwargs\u001b[0m\u001b[0;34m)\u001b[0m\u001b[0;34m\u001b[0m\u001b[0;34m\u001b[0m\u001b[0m\n\u001b[1;32m    319\u001b[0m         \u001b[0;32melse\u001b[0m\u001b[0;34m:\u001b[0m\u001b[0;34m\u001b[0m\u001b[0;34m\u001b[0m\u001b[0m\n\u001b[0;32m--> 320\u001b[0;31m             \u001b[0mformat_dict\u001b[0m\u001b[0;34m,\u001b[0m \u001b[0mmd_dict\u001b[0m \u001b[0;34m=\u001b[0m \u001b[0mformat\u001b[0m\u001b[0;34m(\u001b[0m\u001b[0mobj\u001b[0m\u001b[0;34m,\u001b[0m \u001b[0minclude\u001b[0m\u001b[0;34m=\u001b[0m\u001b[0minclude\u001b[0m\u001b[0;34m,\u001b[0m \u001b[0mexclude\u001b[0m\u001b[0;34m=\u001b[0m\u001b[0mexclude\u001b[0m\u001b[0;34m)\u001b[0m\u001b[0;34m\u001b[0m\u001b[0;34m\u001b[0m\u001b[0m\n\u001b[0m\u001b[1;32m    321\u001b[0m             \u001b[0;32mif\u001b[0m \u001b[0;32mnot\u001b[0m \u001b[0mformat_dict\u001b[0m\u001b[0;34m:\u001b[0m\u001b[0;34m\u001b[0m\u001b[0;34m\u001b[0m\u001b[0m\n\u001b[1;32m    322\u001b[0m                 \u001b[0;31m# nothing to display (e.g. _ipython_display_ took over)\u001b[0m\u001b[0;34m\u001b[0m\u001b[0;34m\u001b[0m\u001b[0;34m\u001b[0m\u001b[0m\n",
      "\u001b[0;32m~/anaconda3/envs/myenv/lib/python3.7/site-packages/IPython/core/formatters.py\u001b[0m in \u001b[0;36mformat\u001b[0;34m(self, obj, include, exclude)\u001b[0m\n\u001b[1;32m    178\u001b[0m             \u001b[0mmd\u001b[0m \u001b[0;34m=\u001b[0m \u001b[0;32mNone\u001b[0m\u001b[0;34m\u001b[0m\u001b[0;34m\u001b[0m\u001b[0m\n\u001b[1;32m    179\u001b[0m             \u001b[0;32mtry\u001b[0m\u001b[0;34m:\u001b[0m\u001b[0;34m\u001b[0m\u001b[0;34m\u001b[0m\u001b[0m\n\u001b[0;32m--> 180\u001b[0;31m                 \u001b[0mdata\u001b[0m \u001b[0;34m=\u001b[0m \u001b[0mformatter\u001b[0m\u001b[0;34m(\u001b[0m\u001b[0mobj\u001b[0m\u001b[0;34m)\u001b[0m\u001b[0;34m\u001b[0m\u001b[0;34m\u001b[0m\u001b[0m\n\u001b[0m\u001b[1;32m    181\u001b[0m             \u001b[0;32mexcept\u001b[0m\u001b[0;34m:\u001b[0m\u001b[0;34m\u001b[0m\u001b[0;34m\u001b[0m\u001b[0m\n\u001b[1;32m    182\u001b[0m                 \u001b[0;31m# FIXME: log the exception\u001b[0m\u001b[0;34m\u001b[0m\u001b[0;34m\u001b[0m\u001b[0;34m\u001b[0m\u001b[0m\n",
      "\u001b[0;32m~/anaconda3/envs/myenv/lib/python3.7/site-packages/decorator.py\u001b[0m in \u001b[0;36mfun\u001b[0;34m(*args, **kw)\u001b[0m\n\u001b[1;32m    230\u001b[0m             \u001b[0;32mif\u001b[0m \u001b[0;32mnot\u001b[0m \u001b[0mkwsyntax\u001b[0m\u001b[0;34m:\u001b[0m\u001b[0;34m\u001b[0m\u001b[0;34m\u001b[0m\u001b[0m\n\u001b[1;32m    231\u001b[0m                 \u001b[0margs\u001b[0m\u001b[0;34m,\u001b[0m \u001b[0mkw\u001b[0m \u001b[0;34m=\u001b[0m \u001b[0mfix\u001b[0m\u001b[0;34m(\u001b[0m\u001b[0margs\u001b[0m\u001b[0;34m,\u001b[0m \u001b[0mkw\u001b[0m\u001b[0;34m,\u001b[0m \u001b[0msig\u001b[0m\u001b[0;34m)\u001b[0m\u001b[0;34m\u001b[0m\u001b[0;34m\u001b[0m\u001b[0m\n\u001b[0;32m--> 232\u001b[0;31m             \u001b[0;32mreturn\u001b[0m \u001b[0mcaller\u001b[0m\u001b[0;34m(\u001b[0m\u001b[0mfunc\u001b[0m\u001b[0;34m,\u001b[0m \u001b[0;34m*\u001b[0m\u001b[0;34m(\u001b[0m\u001b[0mextras\u001b[0m \u001b[0;34m+\u001b[0m \u001b[0margs\u001b[0m\u001b[0;34m)\u001b[0m\u001b[0;34m,\u001b[0m \u001b[0;34m**\u001b[0m\u001b[0mkw\u001b[0m\u001b[0;34m)\u001b[0m\u001b[0;34m\u001b[0m\u001b[0;34m\u001b[0m\u001b[0m\n\u001b[0m\u001b[1;32m    233\u001b[0m     \u001b[0mfun\u001b[0m\u001b[0;34m.\u001b[0m\u001b[0m__name__\u001b[0m \u001b[0;34m=\u001b[0m \u001b[0mfunc\u001b[0m\u001b[0;34m.\u001b[0m\u001b[0m__name__\u001b[0m\u001b[0;34m\u001b[0m\u001b[0;34m\u001b[0m\u001b[0m\n\u001b[1;32m    234\u001b[0m     \u001b[0mfun\u001b[0m\u001b[0;34m.\u001b[0m\u001b[0m__doc__\u001b[0m \u001b[0;34m=\u001b[0m \u001b[0mfunc\u001b[0m\u001b[0;34m.\u001b[0m\u001b[0m__doc__\u001b[0m\u001b[0;34m\u001b[0m\u001b[0;34m\u001b[0m\u001b[0m\n",
      "\u001b[0;32m~/anaconda3/envs/myenv/lib/python3.7/site-packages/IPython/core/formatters.py\u001b[0m in \u001b[0;36mcatch_format_error\u001b[0;34m(method, self, *args, **kwargs)\u001b[0m\n\u001b[1;32m    222\u001b[0m     \u001b[0;34m\"\"\"show traceback on failed format call\"\"\"\u001b[0m\u001b[0;34m\u001b[0m\u001b[0;34m\u001b[0m\u001b[0m\n\u001b[1;32m    223\u001b[0m     \u001b[0;32mtry\u001b[0m\u001b[0;34m:\u001b[0m\u001b[0;34m\u001b[0m\u001b[0;34m\u001b[0m\u001b[0m\n\u001b[0;32m--> 224\u001b[0;31m         \u001b[0mr\u001b[0m \u001b[0;34m=\u001b[0m \u001b[0mmethod\u001b[0m\u001b[0;34m(\u001b[0m\u001b[0mself\u001b[0m\u001b[0;34m,\u001b[0m \u001b[0;34m*\u001b[0m\u001b[0margs\u001b[0m\u001b[0;34m,\u001b[0m \u001b[0;34m**\u001b[0m\u001b[0mkwargs\u001b[0m\u001b[0;34m)\u001b[0m\u001b[0;34m\u001b[0m\u001b[0;34m\u001b[0m\u001b[0m\n\u001b[0m\u001b[1;32m    225\u001b[0m     \u001b[0;32mexcept\u001b[0m \u001b[0mNotImplementedError\u001b[0m\u001b[0;34m:\u001b[0m\u001b[0;34m\u001b[0m\u001b[0;34m\u001b[0m\u001b[0m\n\u001b[1;32m    226\u001b[0m         \u001b[0;31m# don't warn on NotImplementedErrors\u001b[0m\u001b[0;34m\u001b[0m\u001b[0;34m\u001b[0m\u001b[0;34m\u001b[0m\u001b[0m\n",
      "\u001b[0;32m~/anaconda3/envs/myenv/lib/python3.7/site-packages/IPython/core/formatters.py\u001b[0m in \u001b[0;36m__call__\u001b[0;34m(self, obj)\u001b[0m\n\u001b[1;32m    339\u001b[0m                 \u001b[0;32mpass\u001b[0m\u001b[0;34m\u001b[0m\u001b[0;34m\u001b[0m\u001b[0m\n\u001b[1;32m    340\u001b[0m             \u001b[0;32melse\u001b[0m\u001b[0;34m:\u001b[0m\u001b[0;34m\u001b[0m\u001b[0;34m\u001b[0m\u001b[0m\n\u001b[0;32m--> 341\u001b[0;31m                 \u001b[0;32mreturn\u001b[0m \u001b[0mprinter\u001b[0m\u001b[0;34m(\u001b[0m\u001b[0mobj\u001b[0m\u001b[0;34m)\u001b[0m\u001b[0;34m\u001b[0m\u001b[0;34m\u001b[0m\u001b[0m\n\u001b[0m\u001b[1;32m    342\u001b[0m             \u001b[0;31m# Finally look for special method names\u001b[0m\u001b[0;34m\u001b[0m\u001b[0;34m\u001b[0m\u001b[0;34m\u001b[0m\u001b[0m\n\u001b[1;32m    343\u001b[0m             \u001b[0mmethod\u001b[0m \u001b[0;34m=\u001b[0m \u001b[0mget_real_method\u001b[0m\u001b[0;34m(\u001b[0m\u001b[0mobj\u001b[0m\u001b[0;34m,\u001b[0m \u001b[0mself\u001b[0m\u001b[0;34m.\u001b[0m\u001b[0mprint_method\u001b[0m\u001b[0;34m)\u001b[0m\u001b[0;34m\u001b[0m\u001b[0;34m\u001b[0m\u001b[0m\n",
      "\u001b[0;32m~/anaconda3/envs/myenv/lib/python3.7/site-packages/IPython/core/pylabtools.py\u001b[0m in \u001b[0;36mprint_figure\u001b[0;34m(fig, fmt, bbox_inches, base64, **kwargs)\u001b[0m\n\u001b[1;32m    149\u001b[0m         \u001b[0mFigureCanvasBase\u001b[0m\u001b[0;34m(\u001b[0m\u001b[0mfig\u001b[0m\u001b[0;34m)\u001b[0m\u001b[0;34m\u001b[0m\u001b[0;34m\u001b[0m\u001b[0m\n\u001b[1;32m    150\u001b[0m \u001b[0;34m\u001b[0m\u001b[0m\n\u001b[0;32m--> 151\u001b[0;31m     \u001b[0mfig\u001b[0m\u001b[0;34m.\u001b[0m\u001b[0mcanvas\u001b[0m\u001b[0;34m.\u001b[0m\u001b[0mprint_figure\u001b[0m\u001b[0;34m(\u001b[0m\u001b[0mbytes_io\u001b[0m\u001b[0;34m,\u001b[0m \u001b[0;34m**\u001b[0m\u001b[0mkw\u001b[0m\u001b[0;34m)\u001b[0m\u001b[0;34m\u001b[0m\u001b[0;34m\u001b[0m\u001b[0m\n\u001b[0m\u001b[1;32m    152\u001b[0m     \u001b[0mdata\u001b[0m \u001b[0;34m=\u001b[0m \u001b[0mbytes_io\u001b[0m\u001b[0;34m.\u001b[0m\u001b[0mgetvalue\u001b[0m\u001b[0;34m(\u001b[0m\u001b[0;34m)\u001b[0m\u001b[0;34m\u001b[0m\u001b[0;34m\u001b[0m\u001b[0m\n\u001b[1;32m    153\u001b[0m     \u001b[0;32mif\u001b[0m \u001b[0mfmt\u001b[0m \u001b[0;34m==\u001b[0m \u001b[0;34m'svg'\u001b[0m\u001b[0;34m:\u001b[0m\u001b[0;34m\u001b[0m\u001b[0;34m\u001b[0m\u001b[0m\n",
      "\u001b[0;32m~/anaconda3/envs/myenv/lib/python3.7/site-packages/matplotlib/backend_bases.py\u001b[0m in \u001b[0;36mprint_figure\u001b[0;34m(self, filename, dpi, facecolor, edgecolor, orientation, format, bbox_inches, pad_inches, bbox_extra_artists, backend, **kwargs)\u001b[0m\n\u001b[1;32m   2215\u001b[0m                     \u001b[0morientation\u001b[0m\u001b[0;34m=\u001b[0m\u001b[0morientation\u001b[0m\u001b[0;34m,\u001b[0m\u001b[0;34m\u001b[0m\u001b[0;34m\u001b[0m\u001b[0m\n\u001b[1;32m   2216\u001b[0m                     \u001b[0mbbox_inches_restore\u001b[0m\u001b[0;34m=\u001b[0m\u001b[0m_bbox_inches_restore\u001b[0m\u001b[0;34m,\u001b[0m\u001b[0;34m\u001b[0m\u001b[0;34m\u001b[0m\u001b[0m\n\u001b[0;32m-> 2217\u001b[0;31m                     **kwargs)\n\u001b[0m\u001b[1;32m   2218\u001b[0m             \u001b[0;32mfinally\u001b[0m\u001b[0;34m:\u001b[0m\u001b[0;34m\u001b[0m\u001b[0;34m\u001b[0m\u001b[0m\n\u001b[1;32m   2219\u001b[0m                 \u001b[0;32mif\u001b[0m \u001b[0mbbox_inches\u001b[0m \u001b[0;32mand\u001b[0m \u001b[0mrestore_bbox\u001b[0m\u001b[0;34m:\u001b[0m\u001b[0;34m\u001b[0m\u001b[0;34m\u001b[0m\u001b[0m\n",
      "\u001b[0;32m~/anaconda3/envs/myenv/lib/python3.7/site-packages/matplotlib/backend_bases.py\u001b[0m in \u001b[0;36mwrapper\u001b[0;34m(*args, **kwargs)\u001b[0m\n\u001b[1;32m   1637\u001b[0m             \u001b[0mkwargs\u001b[0m\u001b[0;34m.\u001b[0m\u001b[0mpop\u001b[0m\u001b[0;34m(\u001b[0m\u001b[0marg\u001b[0m\u001b[0;34m)\u001b[0m\u001b[0;34m\u001b[0m\u001b[0;34m\u001b[0m\u001b[0m\n\u001b[1;32m   1638\u001b[0m \u001b[0;34m\u001b[0m\u001b[0m\n\u001b[0;32m-> 1639\u001b[0;31m         \u001b[0;32mreturn\u001b[0m \u001b[0mfunc\u001b[0m\u001b[0;34m(\u001b[0m\u001b[0;34m*\u001b[0m\u001b[0margs\u001b[0m\u001b[0;34m,\u001b[0m \u001b[0;34m**\u001b[0m\u001b[0mkwargs\u001b[0m\u001b[0;34m)\u001b[0m\u001b[0;34m\u001b[0m\u001b[0;34m\u001b[0m\u001b[0m\n\u001b[0m\u001b[1;32m   1640\u001b[0m \u001b[0;34m\u001b[0m\u001b[0m\n\u001b[1;32m   1641\u001b[0m     \u001b[0;32mreturn\u001b[0m \u001b[0mwrapper\u001b[0m\u001b[0;34m\u001b[0m\u001b[0;34m\u001b[0m\u001b[0m\n",
      "\u001b[0;32m~/anaconda3/envs/myenv/lib/python3.7/site-packages/matplotlib/backends/backend_agg.py\u001b[0m in \u001b[0;36mprint_png\u001b[0;34m(self, filename_or_obj, metadata, pil_kwargs, *args)\u001b[0m\n\u001b[1;32m    507\u001b[0m             \u001b[0;34m*\u001b[0m\u001b[0mmetadata\u001b[0m\u001b[0;34m*\u001b[0m\u001b[0;34m,\u001b[0m \u001b[0mincluding\u001b[0m \u001b[0mthe\u001b[0m \u001b[0mdefault\u001b[0m \u001b[0;34m'Software'\u001b[0m \u001b[0mkey\u001b[0m\u001b[0;34m.\u001b[0m\u001b[0;34m\u001b[0m\u001b[0;34m\u001b[0m\u001b[0m\n\u001b[1;32m    508\u001b[0m         \"\"\"\n\u001b[0;32m--> 509\u001b[0;31m         \u001b[0mFigureCanvasAgg\u001b[0m\u001b[0;34m.\u001b[0m\u001b[0mdraw\u001b[0m\u001b[0;34m(\u001b[0m\u001b[0mself\u001b[0m\u001b[0;34m)\u001b[0m\u001b[0;34m\u001b[0m\u001b[0;34m\u001b[0m\u001b[0m\n\u001b[0m\u001b[1;32m    510\u001b[0m         mpl.image.imsave(\n\u001b[1;32m    511\u001b[0m             \u001b[0mfilename_or_obj\u001b[0m\u001b[0;34m,\u001b[0m \u001b[0mself\u001b[0m\u001b[0;34m.\u001b[0m\u001b[0mbuffer_rgba\u001b[0m\u001b[0;34m(\u001b[0m\u001b[0;34m)\u001b[0m\u001b[0;34m,\u001b[0m \u001b[0mformat\u001b[0m\u001b[0;34m=\u001b[0m\u001b[0;34m\"png\"\u001b[0m\u001b[0;34m,\u001b[0m \u001b[0morigin\u001b[0m\u001b[0;34m=\u001b[0m\u001b[0;34m\"upper\"\u001b[0m\u001b[0;34m,\u001b[0m\u001b[0;34m\u001b[0m\u001b[0;34m\u001b[0m\u001b[0m\n",
      "\u001b[0;32m~/anaconda3/envs/myenv/lib/python3.7/site-packages/matplotlib/backends/backend_agg.py\u001b[0m in \u001b[0;36mdraw\u001b[0;34m(self)\u001b[0m\n\u001b[1;32m    405\u001b[0m              (self.toolbar._wait_cursor_for_draw_cm() if self.toolbar\n\u001b[1;32m    406\u001b[0m               else nullcontext()):\n\u001b[0;32m--> 407\u001b[0;31m             \u001b[0mself\u001b[0m\u001b[0;34m.\u001b[0m\u001b[0mfigure\u001b[0m\u001b[0;34m.\u001b[0m\u001b[0mdraw\u001b[0m\u001b[0;34m(\u001b[0m\u001b[0mself\u001b[0m\u001b[0;34m.\u001b[0m\u001b[0mrenderer\u001b[0m\u001b[0;34m)\u001b[0m\u001b[0;34m\u001b[0m\u001b[0;34m\u001b[0m\u001b[0m\n\u001b[0m\u001b[1;32m    408\u001b[0m             \u001b[0;31m# A GUI class may be need to update a window using this draw, so\u001b[0m\u001b[0;34m\u001b[0m\u001b[0;34m\u001b[0m\u001b[0;34m\u001b[0m\u001b[0m\n\u001b[1;32m    409\u001b[0m             \u001b[0;31m# don't forget to call the superclass.\u001b[0m\u001b[0;34m\u001b[0m\u001b[0;34m\u001b[0m\u001b[0;34m\u001b[0m\u001b[0m\n",
      "\u001b[0;32m~/anaconda3/envs/myenv/lib/python3.7/site-packages/matplotlib/artist.py\u001b[0m in \u001b[0;36mdraw_wrapper\u001b[0;34m(artist, renderer, *args, **kwargs)\u001b[0m\n\u001b[1;32m     39\u001b[0m                 \u001b[0mrenderer\u001b[0m\u001b[0;34m.\u001b[0m\u001b[0mstart_filter\u001b[0m\u001b[0;34m(\u001b[0m\u001b[0;34m)\u001b[0m\u001b[0;34m\u001b[0m\u001b[0;34m\u001b[0m\u001b[0m\n\u001b[1;32m     40\u001b[0m \u001b[0;34m\u001b[0m\u001b[0m\n\u001b[0;32m---> 41\u001b[0;31m             \u001b[0;32mreturn\u001b[0m \u001b[0mdraw\u001b[0m\u001b[0;34m(\u001b[0m\u001b[0martist\u001b[0m\u001b[0;34m,\u001b[0m \u001b[0mrenderer\u001b[0m\u001b[0;34m,\u001b[0m \u001b[0;34m*\u001b[0m\u001b[0margs\u001b[0m\u001b[0;34m,\u001b[0m \u001b[0;34m**\u001b[0m\u001b[0mkwargs\u001b[0m\u001b[0;34m)\u001b[0m\u001b[0;34m\u001b[0m\u001b[0;34m\u001b[0m\u001b[0m\n\u001b[0m\u001b[1;32m     42\u001b[0m         \u001b[0;32mfinally\u001b[0m\u001b[0;34m:\u001b[0m\u001b[0;34m\u001b[0m\u001b[0;34m\u001b[0m\u001b[0m\n\u001b[1;32m     43\u001b[0m             \u001b[0;32mif\u001b[0m \u001b[0martist\u001b[0m\u001b[0;34m.\u001b[0m\u001b[0mget_agg_filter\u001b[0m\u001b[0;34m(\u001b[0m\u001b[0;34m)\u001b[0m \u001b[0;32mis\u001b[0m \u001b[0;32mnot\u001b[0m \u001b[0;32mNone\u001b[0m\u001b[0;34m:\u001b[0m\u001b[0;34m\u001b[0m\u001b[0;34m\u001b[0m\u001b[0m\n",
      "\u001b[0;32m~/anaconda3/envs/myenv/lib/python3.7/site-packages/matplotlib/figure.py\u001b[0m in \u001b[0;36mdraw\u001b[0;34m(self, renderer)\u001b[0m\n\u001b[1;32m   1862\u001b[0m             \u001b[0mself\u001b[0m\u001b[0;34m.\u001b[0m\u001b[0mpatch\u001b[0m\u001b[0;34m.\u001b[0m\u001b[0mdraw\u001b[0m\u001b[0;34m(\u001b[0m\u001b[0mrenderer\u001b[0m\u001b[0;34m)\u001b[0m\u001b[0;34m\u001b[0m\u001b[0;34m\u001b[0m\u001b[0m\n\u001b[1;32m   1863\u001b[0m             mimage._draw_list_compositing_images(\n\u001b[0;32m-> 1864\u001b[0;31m                 renderer, self, artists, self.suppressComposite)\n\u001b[0m\u001b[1;32m   1865\u001b[0m \u001b[0;34m\u001b[0m\u001b[0m\n\u001b[1;32m   1866\u001b[0m             \u001b[0mrenderer\u001b[0m\u001b[0;34m.\u001b[0m\u001b[0mclose_group\u001b[0m\u001b[0;34m(\u001b[0m\u001b[0;34m'figure'\u001b[0m\u001b[0;34m)\u001b[0m\u001b[0;34m\u001b[0m\u001b[0;34m\u001b[0m\u001b[0m\n",
      "\u001b[0;32m~/anaconda3/envs/myenv/lib/python3.7/site-packages/matplotlib/image.py\u001b[0m in \u001b[0;36m_draw_list_compositing_images\u001b[0;34m(renderer, parent, artists, suppress_composite)\u001b[0m\n\u001b[1;32m    129\u001b[0m     \u001b[0;32mif\u001b[0m \u001b[0mnot_composite\u001b[0m \u001b[0;32mor\u001b[0m \u001b[0;32mnot\u001b[0m \u001b[0mhas_images\u001b[0m\u001b[0;34m:\u001b[0m\u001b[0;34m\u001b[0m\u001b[0;34m\u001b[0m\u001b[0m\n\u001b[1;32m    130\u001b[0m         \u001b[0;32mfor\u001b[0m \u001b[0ma\u001b[0m \u001b[0;32min\u001b[0m \u001b[0martists\u001b[0m\u001b[0;34m:\u001b[0m\u001b[0;34m\u001b[0m\u001b[0;34m\u001b[0m\u001b[0m\n\u001b[0;32m--> 131\u001b[0;31m             \u001b[0ma\u001b[0m\u001b[0;34m.\u001b[0m\u001b[0mdraw\u001b[0m\u001b[0;34m(\u001b[0m\u001b[0mrenderer\u001b[0m\u001b[0;34m)\u001b[0m\u001b[0;34m\u001b[0m\u001b[0;34m\u001b[0m\u001b[0m\n\u001b[0m\u001b[1;32m    132\u001b[0m     \u001b[0;32melse\u001b[0m\u001b[0;34m:\u001b[0m\u001b[0;34m\u001b[0m\u001b[0;34m\u001b[0m\u001b[0m\n\u001b[1;32m    133\u001b[0m         \u001b[0;31m# Composite any adjacent images together\u001b[0m\u001b[0;34m\u001b[0m\u001b[0;34m\u001b[0m\u001b[0;34m\u001b[0m\u001b[0m\n",
      "\u001b[0;32m~/anaconda3/envs/myenv/lib/python3.7/site-packages/matplotlib/artist.py\u001b[0m in \u001b[0;36mdraw_wrapper\u001b[0;34m(artist, renderer, *args, **kwargs)\u001b[0m\n\u001b[1;32m     39\u001b[0m                 \u001b[0mrenderer\u001b[0m\u001b[0;34m.\u001b[0m\u001b[0mstart_filter\u001b[0m\u001b[0;34m(\u001b[0m\u001b[0;34m)\u001b[0m\u001b[0;34m\u001b[0m\u001b[0;34m\u001b[0m\u001b[0m\n\u001b[1;32m     40\u001b[0m \u001b[0;34m\u001b[0m\u001b[0m\n\u001b[0;32m---> 41\u001b[0;31m             \u001b[0;32mreturn\u001b[0m \u001b[0mdraw\u001b[0m\u001b[0;34m(\u001b[0m\u001b[0martist\u001b[0m\u001b[0;34m,\u001b[0m \u001b[0mrenderer\u001b[0m\u001b[0;34m,\u001b[0m \u001b[0;34m*\u001b[0m\u001b[0margs\u001b[0m\u001b[0;34m,\u001b[0m \u001b[0;34m**\u001b[0m\u001b[0mkwargs\u001b[0m\u001b[0;34m)\u001b[0m\u001b[0;34m\u001b[0m\u001b[0;34m\u001b[0m\u001b[0m\n\u001b[0m\u001b[1;32m     42\u001b[0m         \u001b[0;32mfinally\u001b[0m\u001b[0;34m:\u001b[0m\u001b[0;34m\u001b[0m\u001b[0;34m\u001b[0m\u001b[0m\n\u001b[1;32m     43\u001b[0m             \u001b[0;32mif\u001b[0m \u001b[0martist\u001b[0m\u001b[0;34m.\u001b[0m\u001b[0mget_agg_filter\u001b[0m\u001b[0;34m(\u001b[0m\u001b[0;34m)\u001b[0m \u001b[0;32mis\u001b[0m \u001b[0;32mnot\u001b[0m \u001b[0;32mNone\u001b[0m\u001b[0;34m:\u001b[0m\u001b[0;34m\u001b[0m\u001b[0;34m\u001b[0m\u001b[0m\n",
      "\u001b[0;32m~/anaconda3/envs/myenv/lib/python3.7/site-packages/matplotlib/cbook/deprecation.py\u001b[0m in \u001b[0;36mwrapper\u001b[0;34m(*inner_args, **inner_kwargs)\u001b[0m\n\u001b[1;32m    409\u001b[0m                          \u001b[0;32melse\u001b[0m \u001b[0mdeprecation_addendum\u001b[0m\u001b[0;34m,\u001b[0m\u001b[0;34m\u001b[0m\u001b[0;34m\u001b[0m\u001b[0m\n\u001b[1;32m    410\u001b[0m                 **kwargs)\n\u001b[0;32m--> 411\u001b[0;31m         \u001b[0;32mreturn\u001b[0m \u001b[0mfunc\u001b[0m\u001b[0;34m(\u001b[0m\u001b[0;34m*\u001b[0m\u001b[0minner_args\u001b[0m\u001b[0;34m,\u001b[0m \u001b[0;34m**\u001b[0m\u001b[0minner_kwargs\u001b[0m\u001b[0;34m)\u001b[0m\u001b[0;34m\u001b[0m\u001b[0;34m\u001b[0m\u001b[0m\n\u001b[0m\u001b[1;32m    412\u001b[0m \u001b[0;34m\u001b[0m\u001b[0m\n\u001b[1;32m    413\u001b[0m     \u001b[0;32mreturn\u001b[0m \u001b[0mwrapper\u001b[0m\u001b[0;34m\u001b[0m\u001b[0;34m\u001b[0m\u001b[0m\n",
      "\u001b[0;32m~/anaconda3/envs/myenv/lib/python3.7/site-packages/matplotlib/axes/_base.py\u001b[0m in \u001b[0;36mdraw\u001b[0;34m(self, renderer, inframe)\u001b[0m\n\u001b[1;32m   2745\u001b[0m             \u001b[0mrenderer\u001b[0m\u001b[0;34m.\u001b[0m\u001b[0mstop_rasterizing\u001b[0m\u001b[0;34m(\u001b[0m\u001b[0;34m)\u001b[0m\u001b[0;34m\u001b[0m\u001b[0;34m\u001b[0m\u001b[0m\n\u001b[1;32m   2746\u001b[0m \u001b[0;34m\u001b[0m\u001b[0m\n\u001b[0;32m-> 2747\u001b[0;31m         \u001b[0mmimage\u001b[0m\u001b[0;34m.\u001b[0m\u001b[0m_draw_list_compositing_images\u001b[0m\u001b[0;34m(\u001b[0m\u001b[0mrenderer\u001b[0m\u001b[0;34m,\u001b[0m \u001b[0mself\u001b[0m\u001b[0;34m,\u001b[0m \u001b[0martists\u001b[0m\u001b[0;34m)\u001b[0m\u001b[0;34m\u001b[0m\u001b[0;34m\u001b[0m\u001b[0m\n\u001b[0m\u001b[1;32m   2748\u001b[0m \u001b[0;34m\u001b[0m\u001b[0m\n\u001b[1;32m   2749\u001b[0m         \u001b[0mrenderer\u001b[0m\u001b[0;34m.\u001b[0m\u001b[0mclose_group\u001b[0m\u001b[0;34m(\u001b[0m\u001b[0;34m'axes'\u001b[0m\u001b[0;34m)\u001b[0m\u001b[0;34m\u001b[0m\u001b[0;34m\u001b[0m\u001b[0m\n",
      "\u001b[0;32m~/anaconda3/envs/myenv/lib/python3.7/site-packages/matplotlib/image.py\u001b[0m in \u001b[0;36m_draw_list_compositing_images\u001b[0;34m(renderer, parent, artists, suppress_composite)\u001b[0m\n\u001b[1;32m    129\u001b[0m     \u001b[0;32mif\u001b[0m \u001b[0mnot_composite\u001b[0m \u001b[0;32mor\u001b[0m \u001b[0;32mnot\u001b[0m \u001b[0mhas_images\u001b[0m\u001b[0;34m:\u001b[0m\u001b[0;34m\u001b[0m\u001b[0;34m\u001b[0m\u001b[0m\n\u001b[1;32m    130\u001b[0m         \u001b[0;32mfor\u001b[0m \u001b[0ma\u001b[0m \u001b[0;32min\u001b[0m \u001b[0martists\u001b[0m\u001b[0;34m:\u001b[0m\u001b[0;34m\u001b[0m\u001b[0;34m\u001b[0m\u001b[0m\n\u001b[0;32m--> 131\u001b[0;31m             \u001b[0ma\u001b[0m\u001b[0;34m.\u001b[0m\u001b[0mdraw\u001b[0m\u001b[0;34m(\u001b[0m\u001b[0mrenderer\u001b[0m\u001b[0;34m)\u001b[0m\u001b[0;34m\u001b[0m\u001b[0;34m\u001b[0m\u001b[0m\n\u001b[0m\u001b[1;32m    132\u001b[0m     \u001b[0;32melse\u001b[0m\u001b[0;34m:\u001b[0m\u001b[0;34m\u001b[0m\u001b[0;34m\u001b[0m\u001b[0m\n\u001b[1;32m    133\u001b[0m         \u001b[0;31m# Composite any adjacent images together\u001b[0m\u001b[0;34m\u001b[0m\u001b[0;34m\u001b[0m\u001b[0;34m\u001b[0m\u001b[0m\n",
      "\u001b[0;32m~/anaconda3/envs/myenv/lib/python3.7/site-packages/matplotlib/artist.py\u001b[0m in \u001b[0;36mdraw_wrapper\u001b[0;34m(artist, renderer, *args, **kwargs)\u001b[0m\n\u001b[1;32m     39\u001b[0m                 \u001b[0mrenderer\u001b[0m\u001b[0;34m.\u001b[0m\u001b[0mstart_filter\u001b[0m\u001b[0;34m(\u001b[0m\u001b[0;34m)\u001b[0m\u001b[0;34m\u001b[0m\u001b[0;34m\u001b[0m\u001b[0m\n\u001b[1;32m     40\u001b[0m \u001b[0;34m\u001b[0m\u001b[0m\n\u001b[0;32m---> 41\u001b[0;31m             \u001b[0;32mreturn\u001b[0m \u001b[0mdraw\u001b[0m\u001b[0;34m(\u001b[0m\u001b[0martist\u001b[0m\u001b[0;34m,\u001b[0m \u001b[0mrenderer\u001b[0m\u001b[0;34m,\u001b[0m \u001b[0;34m*\u001b[0m\u001b[0margs\u001b[0m\u001b[0;34m,\u001b[0m \u001b[0;34m**\u001b[0m\u001b[0mkwargs\u001b[0m\u001b[0;34m)\u001b[0m\u001b[0;34m\u001b[0m\u001b[0;34m\u001b[0m\u001b[0m\n\u001b[0m\u001b[1;32m     42\u001b[0m         \u001b[0;32mfinally\u001b[0m\u001b[0;34m:\u001b[0m\u001b[0;34m\u001b[0m\u001b[0;34m\u001b[0m\u001b[0m\n\u001b[1;32m     43\u001b[0m             \u001b[0;32mif\u001b[0m \u001b[0martist\u001b[0m\u001b[0;34m.\u001b[0m\u001b[0mget_agg_filter\u001b[0m\u001b[0;34m(\u001b[0m\u001b[0;34m)\u001b[0m \u001b[0;32mis\u001b[0m \u001b[0;32mnot\u001b[0m \u001b[0;32mNone\u001b[0m\u001b[0;34m:\u001b[0m\u001b[0;34m\u001b[0m\u001b[0;34m\u001b[0m\u001b[0m\n",
      "\u001b[0;32m~/anaconda3/envs/myenv/lib/python3.7/site-packages/matplotlib/image.py\u001b[0m in \u001b[0;36mdraw\u001b[0;34m(self, renderer, *args, **kwargs)\u001b[0m\n\u001b[1;32m    642\u001b[0m         \u001b[0;32melse\u001b[0m\u001b[0;34m:\u001b[0m\u001b[0;34m\u001b[0m\u001b[0;34m\u001b[0m\u001b[0m\n\u001b[1;32m    643\u001b[0m             im, l, b, trans = self.make_image(\n\u001b[0;32m--> 644\u001b[0;31m                 renderer, renderer.get_image_magnification())\n\u001b[0m\u001b[1;32m    645\u001b[0m             \u001b[0;32mif\u001b[0m \u001b[0mim\u001b[0m \u001b[0;32mis\u001b[0m \u001b[0;32mnot\u001b[0m \u001b[0;32mNone\u001b[0m\u001b[0;34m:\u001b[0m\u001b[0;34m\u001b[0m\u001b[0;34m\u001b[0m\u001b[0m\n\u001b[1;32m    646\u001b[0m                 \u001b[0mrenderer\u001b[0m\u001b[0;34m.\u001b[0m\u001b[0mdraw_image\u001b[0m\u001b[0;34m(\u001b[0m\u001b[0mgc\u001b[0m\u001b[0;34m,\u001b[0m \u001b[0ml\u001b[0m\u001b[0;34m,\u001b[0m \u001b[0mb\u001b[0m\u001b[0;34m,\u001b[0m \u001b[0mim\u001b[0m\u001b[0;34m)\u001b[0m\u001b[0;34m\u001b[0m\u001b[0;34m\u001b[0m\u001b[0m\n",
      "\u001b[0;32m~/anaconda3/envs/myenv/lib/python3.7/site-packages/matplotlib/image.py\u001b[0m in \u001b[0;36mmake_image\u001b[0;34m(self, renderer, magnification, unsampled)\u001b[0m\n\u001b[1;32m    927\u001b[0m                 else self.figure.bbox)\n\u001b[1;32m    928\u001b[0m         return self._make_image(self._A, bbox, transformed_bbox, clip,\n\u001b[0;32m--> 929\u001b[0;31m                                 magnification, unsampled=unsampled)\n\u001b[0m\u001b[1;32m    930\u001b[0m \u001b[0;34m\u001b[0m\u001b[0m\n\u001b[1;32m    931\u001b[0m     \u001b[0;32mdef\u001b[0m \u001b[0m_check_unsampled_image\u001b[0m\u001b[0;34m(\u001b[0m\u001b[0mself\u001b[0m\u001b[0;34m)\u001b[0m\u001b[0;34m:\u001b[0m\u001b[0;34m\u001b[0m\u001b[0;34m\u001b[0m\u001b[0m\n",
      "\u001b[0;32m~/anaconda3/envs/myenv/lib/python3.7/site-packages/matplotlib/image.py\u001b[0m in \u001b[0;36m_make_image\u001b[0;34m(self, A, in_bbox, out_bbox, clip_bbox, magnification, unsampled, round_to_pixel_border)\u001b[0m\n\u001b[1;32m    406\u001b[0m                 \u001b[0minp_dtype\u001b[0m \u001b[0;34m=\u001b[0m \u001b[0mA\u001b[0m\u001b[0;34m.\u001b[0m\u001b[0mdtype\u001b[0m\u001b[0;34m\u001b[0m\u001b[0;34m\u001b[0m\u001b[0m\n\u001b[1;32m    407\u001b[0m                 \u001b[0ma_min\u001b[0m \u001b[0;34m=\u001b[0m \u001b[0mA\u001b[0m\u001b[0;34m.\u001b[0m\u001b[0mmin\u001b[0m\u001b[0;34m(\u001b[0m\u001b[0;34m)\u001b[0m\u001b[0;34m\u001b[0m\u001b[0;34m\u001b[0m\u001b[0m\n\u001b[0;32m--> 408\u001b[0;31m                 \u001b[0ma_max\u001b[0m \u001b[0;34m=\u001b[0m \u001b[0mA\u001b[0m\u001b[0;34m.\u001b[0m\u001b[0mmax\u001b[0m\u001b[0;34m(\u001b[0m\u001b[0;34m)\u001b[0m\u001b[0;34m\u001b[0m\u001b[0;34m\u001b[0m\u001b[0m\n\u001b[0m\u001b[1;32m    409\u001b[0m                 \u001b[0;31m# figure out the type we should scale to.  For floats,\u001b[0m\u001b[0;34m\u001b[0m\u001b[0;34m\u001b[0m\u001b[0;34m\u001b[0m\u001b[0m\n\u001b[1;32m    410\u001b[0m                 \u001b[0;31m# leave as is.  For integers cast to an appropriate-sized\u001b[0m\u001b[0;34m\u001b[0m\u001b[0;34m\u001b[0m\u001b[0;34m\u001b[0m\u001b[0m\n",
      "\u001b[0;32m~/anaconda3/envs/myenv/lib/python3.7/site-packages/numpy/ma/core.py\u001b[0m in \u001b[0;36mmax\u001b[0;34m(self, axis, out, fill_value, keepdims)\u001b[0m\n\u001b[1;32m   5769\u001b[0m         \u001b[0;32mif\u001b[0m \u001b[0mout\u001b[0m \u001b[0;32mis\u001b[0m \u001b[0;32mNone\u001b[0m\u001b[0;34m:\u001b[0m\u001b[0;34m\u001b[0m\u001b[0;34m\u001b[0m\u001b[0m\n\u001b[1;32m   5770\u001b[0m             result = self.filled(fill_value).max(\n\u001b[0;32m-> 5771\u001b[0;31m                 axis=axis, out=out, **kwargs).view(type(self))\n\u001b[0m\u001b[1;32m   5772\u001b[0m             \u001b[0;32mif\u001b[0m \u001b[0mresult\u001b[0m\u001b[0;34m.\u001b[0m\u001b[0mndim\u001b[0m\u001b[0;34m:\u001b[0m\u001b[0;34m\u001b[0m\u001b[0;34m\u001b[0m\u001b[0m\n\u001b[1;32m   5773\u001b[0m                 \u001b[0;31m# Set the mask\u001b[0m\u001b[0;34m\u001b[0m\u001b[0;34m\u001b[0m\u001b[0;34m\u001b[0m\u001b[0m\n",
      "\u001b[0;32m~/anaconda3/envs/myenv/lib/python3.7/site-packages/numpy/core/_methods.py\u001b[0m in \u001b[0;36m_amax\u001b[0;34m(a, axis, out, keepdims, initial, where)\u001b[0m\n\u001b[1;32m     28\u001b[0m def _amax(a, axis=None, out=None, keepdims=False,\n\u001b[1;32m     29\u001b[0m           initial=_NoValue, where=True):\n\u001b[0;32m---> 30\u001b[0;31m     \u001b[0;32mreturn\u001b[0m \u001b[0mumr_maximum\u001b[0m\u001b[0;34m(\u001b[0m\u001b[0ma\u001b[0m\u001b[0;34m,\u001b[0m \u001b[0maxis\u001b[0m\u001b[0;34m,\u001b[0m \u001b[0;32mNone\u001b[0m\u001b[0;34m,\u001b[0m \u001b[0mout\u001b[0m\u001b[0;34m,\u001b[0m \u001b[0mkeepdims\u001b[0m\u001b[0;34m,\u001b[0m \u001b[0minitial\u001b[0m\u001b[0;34m,\u001b[0m \u001b[0mwhere\u001b[0m\u001b[0;34m)\u001b[0m\u001b[0;34m\u001b[0m\u001b[0;34m\u001b[0m\u001b[0m\n\u001b[0m\u001b[1;32m     31\u001b[0m \u001b[0;34m\u001b[0m\u001b[0m\n\u001b[1;32m     32\u001b[0m def _amin(a, axis=None, out=None, keepdims=False,\n",
      "\u001b[0;31mKeyboardInterrupt\u001b[0m: "
     ]
    }
   ],
   "source": [
    "my_dict = {1: 0, 2: 0, 3: 0}\n",
    "for batch in dataset:\n",
    "    img1, img2, y1, y2 = batch\n",
    "    plt.figure(figsize=(16, 9))\n",
    "    plt.subplot(2, 2, 1)\n",
    "    plt.imshow(img1[0].numpy())\n",
    "    plt.axis('off')\n",
    "    plt.title('MLO')\n",
    "    plt.subplot(2, 2, 2)\n",
    "    plt.imshow(img2[0].numpy())\n",
    "    plt.axis('off')\n",
    "    plt.title('CC')\n",
    "    plt.subplot(2, 2, 3)\n",
    "    plt.imshow(y1[0].numpy())\n",
    "    plt.axis('off')\n",
    "    plt.title('MLO mask')\n",
    "    plt.subplot(2, 2, 4)\n",
    "    plt.imshow(y2[0].numpy())\n",
    "    plt.title('CC mask')\n",
    "    plt.axis('off')\n",
    "    plt.show()\n",
    "    time.sleep(1)\n",
    "    clear_output(wait=True)\n",
    "    #break\n",
    "    "
=======
   "execution_count": 2,
   "id": "50c376ed",
   "metadata": {},
   "outputs": [],
   "source": [
    "from torch.utils.data import DataLoader\n",
    "#from utils import CustomDataset, get_model, validate, data_loader\n",
    "import matplotlib.pyplot as plt\n",
    "from IPython.display import clear_output\n",
    "import numpy as np\n",
    "import pandas as pd\n",
    "import os\n",
    "\n",
    "import os\n",
    "import pandas as pd\n",
    "from IPython.display import clear_output\n",
    "import numpy as np\n",
    "from tqdm import tqdm\n",
    "import torch.nn as nn\n",
    "\n",
    "from timm.models.efficientnet import *\n",
    "import torchvision.models as models\n",
    "\n",
    "import torch\n",
    "import torch.nn.functional as F\n",
    "import albumentations as A\n",
    "\n",
    "import time\n",
    "\n",
    "from albumentations.pytorch.transforms import ToTensorV2\n",
    "import glob\n",
    "import cv2\n",
    "\n",
    "from tqdm import tqdm\n",
    "\n",
    "import models\n",
    "from monai.networks.nets import UNet, UNETR\n",
    "import dataset\n",
    "\n",
    "from models.ternausnets import AlbuNet\n",
    "from models.selim_zoo.unet import Resnet\n",
    "\n",
    "import torch.nn.functional as F\n",
    "\n",
    "from monai.networks.nets import UNet\n",
    "from models import ternausnets\n",
    "from models.selim_zoo.unet import Resnet\n",
    "\n"
>>>>>>> fe4b01dca9043729d6f74e643781bf12d6ff9ac9
   ]
  },
  {
   "cell_type": "code",
<<<<<<< HEAD
   "execution_count": null,
   "id": "e0cc9f7b",
   "metadata": {},
   "outputs": [],
   "source": []
  },
  {
   "cell_type": "code",
   "execution_count": null,
   "id": "43ed0b38",
   "metadata": {},
   "outputs": [],
   "source": []
  },
  {
   "cell_type": "code",
   "execution_count": null,
   "id": "87a94869",
   "metadata": {},
   "outputs": [],
   "source": []
  },
  {
   "cell_type": "code",
   "execution_count": null,
   "id": "64a34546",
   "metadata": {},
   "outputs": [],
   "source": []
  },
  {
   "cell_type": "code",
   "execution_count": null,
   "id": "60cd615c",
   "metadata": {},
   "outputs": [],
   "source": []
  },
  {
   "cell_type": "code",
   "execution_count": null,
   "id": "3ca42b4f",
   "metadata": {},
   "outputs": [],
   "source": []
  },
  {
   "cell_type": "code",
   "execution_count": null,
   "id": "26db7d2a",
   "metadata": {},
   "outputs": [],
   "source": []
  },
  {
   "cell_type": "code",
   "execution_count": null,
   "id": "1336e4b0",
   "metadata": {},
   "outputs": [],
   "source": []
  },
  {
   "cell_type": "code",
   "execution_count": null,
   "id": "07754222",
   "metadata": {},
   "outputs": [],
   "source": []
  },
  {
   "cell_type": "code",
   "execution_count": null,
   "id": "5918917b",
   "metadata": {},
   "outputs": [],
   "source": []
  },
  {
   "cell_type": "code",
   "execution_count": null,
   "id": "60a1ec57",
   "metadata": {},
   "outputs": [],
   "source": []
  },
  {
   "cell_type": "code",
=======
>>>>>>> fe4b01dca9043729d6f74e643781bf12d6ff9ac9
   "execution_count": 3,
   "id": "3f07dc09",
   "metadata": {},
   "outputs": [],
   "source": [
    "class MyModel(torch.nn.Module):#info about img + info about mask\n",
    "\n",
    "    def __init__(self, model, vec_length=256, img_size=1024, weight_mask=0.8):\n",
    "        super(MyModel, self).__init__()\n",
    "        self.model = model\n",
    "        self.weight_mask = weight_mask\n",
    "        self.in_features = 675 if img_size == 1024 else 147\n",
    "        self.conv_block = nn.Sequential(\n",
    "            nn.Conv2d(1, 8, kernel_size=3,stride=2),\n",
    "            nn.ReLU(inplace=True),\n",
    "            nn.MaxPool2d(3, stride=2),\n",
    "            \n",
    "            nn.Conv2d(8, 16, kernel_size=5, stride=2),\n",
    "            nn.ReLU(inplace=True),\n",
    "            nn.MaxPool2d(2, stride=2),\n",
    "\n",
    "            nn.Conv2d(16, 6, kernel_size=3,stride=2),\n",
    "            nn.ReLU(inplace=True),\n",
    "            \n",
    "            nn.Conv2d(6, 3, kernel_size=2,stride=2),\n",
    "            nn.ReLU(inplace=True),\n",
    "\n",
    "            nn.Flatten()\n",
    "        )\n",
    "\n",
    "        self.linear_block = nn.Sequential(\n",
    "            nn.Linear(self.in_features, 300),\n",
    "            nn.ReLU(inplace=True),\n",
    "            \n",
    "            nn.Linear(300, vec_length),\n",
    "            nn.ReLU(inplace=True),\n",
    "            \n",
    "        )\n",
    "    def forward_once(self, x):\n",
    "        pred = self.model(x)\n",
    "        res = self.conv_block(pred)\n",
    "        res_img = self.conv_block(x[:,0:1,:,:])\n",
    "        mask_vec = self.linear_block(res)\n",
    "        img_vec = self.linear_block(res_img)\n",
    "        return pred, mask_vec+img_vec#self.weight_mask * mask_vec + (1 - self.weight_mask) * img_vec\n",
    "\n",
    "    def forward(self, x_mlo, x_cc):\n",
    "        x_mlo, x_cc = x_mlo.float(), x_cc.float()\n",
    "\n",
    "        pred_mlo, vec_mlo = self.forward_once(x_mlo)\n",
    "        pred_cc, vec_cc = self.forward_once(x_cc)\n",
    "        return pred_mlo, pred_cc, vec_mlo, vec_cc\n"
   ]
  },
  {
   "cell_type": "code",
   "execution_count": null,
   "id": "daba8eb6",
   "metadata": {},
   "outputs": [],
   "source": [
    "model = UNet(\n",
    "    spatial_dims=2,\n",
    "    in_channels=3,\n",
    "    out_channels=1,\n",
    "    channels=(4, 8, 16, 32, 64),\n",
    "    strides=(2, 2, 2, 2),\n",
    ")\n",
    "print(f'before {sum(p.numel() for p in model.parameters())}')\n",
    "model = MyModel(model, img_size=512)\n",
    "\n",
    "print(f'after {sum(p.numel() for p in model.parameters())}')\n",
    "\n",
    "model.load_state_dict(torch.load('./best_models/unet_fold0_metric1.107_weight0.9_stop157.pth')['model_state_dict'])"
   ]
  },
  {
   "cell_type": "code",
   "execution_count": 188,
   "id": "2da8f53a",
   "metadata": {},
   "outputs": [],
   "source": [
    "#plt.imshow(np.moveaxis(img_mlo[0].detach().cpu().numpy(), 0, 2))\n",
    "#plt.imshow(img_mlo[0][2].detach().cpu().numpy())"
   ]
  },
  {
   "cell_type": "code",
   "execution_count": 5,
   "id": "8f46253e",
   "metadata": {},
   "outputs": [],
   "source": [
    "model = model.to(torch.device('cuda:1'))"
   ]
  },
  {
   "cell_type": "code",
   "execution_count": 255,
   "id": "0a49d306",
   "metadata": {},
   "outputs": [],
   "source": [
    "class CustomLoss(torch.nn.Module):\n",
    "    def __init__(self, loss_weight=0.5):\n",
    "        super(CustomLoss, self).__init__()\n",
    "        self.loss_weight=loss_weight\n",
    "\n",
    "    def forward(self, output_mlo, output_cc):\n",
    "      euclidean_distance = F.pairwise_distance(output_mlo, output_cc)\n",
    "      loss = torch.mean(torch.pow(euclidean_distance, 2))\n",
    "      return loss\n"
   ]
  },
  {
   "cell_type": "code",
<<<<<<< HEAD
   "execution_count": 5,
=======
   "execution_count": 7,
>>>>>>> fe4b01dca9043729d6f74e643781bf12d6ff9ac9
   "id": "fb19c8b1",
   "metadata": {},
   "outputs": [],
   "source": [
    "def binarize_mask(mask, threshold=0.5):\n",
    "    mask_sigm = torch.sigmoid(mask)\n",
    "    mask_binar = torch.where(mask_sigm > threshold, torch.ones_like(mask_sigm), torch.zeros_like(mask_sigm))\n",
    "    return mask_binar\n",
    "\n",
    "def plot_res(res_mlo, res_cc, label_mlo, label_cc):\n",
    "    plt.figure(figsize=(16, 9))\n",
    "    plt.subplot(2, 2, 1)\n",
    "    plt.imshow(np.moveaxis(binarize_mask(res_mlo)[0].detach().cpu().numpy(), 0, 2))\n",
    "    plt.title('predicted mlo')\n",
    "    plt.axis('off')\n",
    "\n",
    "    plt.subplot(2, 2, 2)\n",
    "    plt.imshow(np.moveaxis(binarize_mask(res_cc)[0].detach().cpu().numpy(), 0, 2))\n",
    "    plt.title('predicted cc')\n",
    "    plt.axis('off')\n",
    "\n",
    "\n",
    "    plt.subplot(2, 2, 3)\n",
    "    plt.imshow(np.moveaxis(label_mlo[0].detach().cpu().numpy(), 0, 2))\n",
    "    plt.title('true mlo')\n",
    "    plt.axis('off')\n",
    "\n",
    "    plt.subplot(2, 2, 4)\n",
    "    plt.imshow(np.moveaxis(label_cc[0].detach().cpu().numpy(), 0, 2))\n",
    "    plt.title('true cc')\n",
    "    plt.axis('off')\n",
    "    plt.show()\n",
    "\n",
    "    \n",
    "def plot_img(img_mlo, img_cc, label_mlo, label_cc):\n",
    "    plt.figure(figsize=(16, 9))\n",
    "    plt.subplot(2, 2, 1)\n",
    "    plt.imshow(np.moveaxis(img_mlo[0].detach().cpu().numpy(), 0, 2))\n",
    "    plt.title('img mlo')\n",
    "    plt.axis('off')\n",
    "\n",
    "    plt.subplot(2, 2, 2)\n",
    "    plt.imshow(np.moveaxis(img_cc[0].detach().cpu().numpy(), 0, 2))\n",
    "    plt.title('img cc')\n",
    "    plt.axis('off')\n",
    "\n",
    "\n",
    "    plt.subplot(2, 2, 3)\n",
    "    plt.imshow(np.moveaxis(label_mlo[0].detach().cpu().numpy(), 0, 2))\n",
    "    plt.title('mask mlo')\n",
    "    plt.axis('off')\n",
    "\n",
    "    plt.subplot(2, 2, 4)\n",
    "    plt.imshow(np.moveaxis(label_cc[0].detach().cpu().numpy(), 0, 2))\n",
    "    plt.title('mask cc')\n",
    "    plt.axis('off')\n",
    "    plt.show()\n",
    "\n",
    "\n",
    "train_transform = './transforms/train_transform512.yml' \n",
    "val_transform = './transforms/val_transform512.yml'\n",
    "\n",
    "train_loader, valid_loader, test_loader = dataset.data_loader(batch_size=4, train_transform=train_transform, val_transform=val_transform)\n"
   ]
  },
  {
   "cell_type": "code",
   "execution_count": 5,
   "id": "0de7adf0",
   "metadata": {},
   "outputs": [],
   "source": [
    "for img_mlo, img_cc, mask1, mask2 in train_loader:\n",
    "    break"
   ]
  },
  {
   "cell_type": "code",
   "execution_count": null,
   "id": "f326505d",
   "metadata": {},
   "outputs": [],
   "source": []
  },
  {
   "cell_type": "code",
   "execution_count": null,
   "id": "718ae339",
   "metadata": {},
   "outputs": [],
   "source": [
    "for img_mlo, img_cc, mask1, mask2 in train_loader:\n",
    "    img_mlo, img_cc = img_mlo.to(torch.device('cuda:1')), img_cc.to(torch.device('cuda:1'))\n",
    "    img_mlo, img_cc = img_mlo.float(), img_cc.float()\n",
    "    pred_mlo, pred_cc, vec_mlo, vec_cc = model(img_mlo, img_cc)\n",
    "    plot_res(img_mlo, img_cc, pred_mlo, pred_cc)\n",
    "    clear_output(wait=True)"
   ]
  },
  {
   "cell_type": "code",
<<<<<<< HEAD
   "execution_count": 3,
=======
   "execution_count": 20,
>>>>>>> fe4b01dca9043729d6f74e643781bf12d6ff9ac9
   "id": "8686b95f",
   "metadata": {},
   "outputs": [],
   "source": [
    "import numpy as np\n",
    "import torch\n",
    "import torch_dct\n",
    "import scipy\n",
    "\n",
    "class DctMaskEncoding(object):\n",
    "    \"\"\"\n",
    "    Apply DCT to encode the binary mask, and use the encoded vector as mask representation in instance segmentation.\n",
    "    \"\"\"\n",
    "    def __init__(self, vec_dim, mask_size=128):\n",
    "        \"\"\"\n",
    "        vec_dim: the dimension of the encoded vector, int\n",
    "        mask_size: the resolution of the initial binary mask representaiton.\n",
    "        \"\"\"\n",
    "        self.vec_dim = vec_dim\n",
    "        self.mask_size = mask_size\n",
    "        assert vec_dim <= mask_size*mask_size\n",
    "        self.dct_vector_coords = self.get_dct_vector_coords(r=mask_size)\n",
    "        #print(self.dct_vector_coords.shape)\n",
    "\n",
    "    def encode(self, masks, dim=None):\n",
    "        \"\"\"\n",
    "        Encode the mask to vector of vec_dim or specific dimention.\n",
    "        \"\"\"\n",
    "        if dim is None:\n",
    "            dct_vector_coords = self.dct_vector_coords[:self.vec_dim]\n",
    "        else:\n",
    "            dct_vector_coords = self.dct_vector_coords[:dim]\n",
    "        masks = masks.view([-1, self.mask_size, self.mask_size]).to(dtype=float)  # [N, H, W]\n",
    "        #print(masks.shape)\n",
    "        dct_all = scipy.fftpack.dctn(masks.numpy(), norm='ortho')\n",
    "        dct_all = torch.from_numpy(dct_all)\n",
    "        xs, ys = dct_vector_coords[:, 0], dct_vector_coords[:, 1]\n",
    "        #print(dct_all.shape)\n",
    "        dct_vectors = dct_all[:, xs, ys]  # reshape as vector\n",
    "        return dct_vectors  # [N, D]\n",
    "\n",
    "    def decode(self, dct_vectors, dim=None):\n",
    "        \"\"\"\n",
    "        intput: dct_vector numpy [N,dct_dim]\n",
    "        output: mask_rc mask reconstructed [N, mask_size, mask_size]\n",
    "        \"\"\"\n",
    "        device = dct_vectors.device\n",
    "        if dim is None:\n",
    "            dct_vector_coords = self.dct_vector_coords[:self.vec_dim]\n",
    "        else:\n",
    "            dct_vector_coords = self.dct_vector_coords[:dim]\n",
    "            dct_vectors = dct_vectors[:, :dim]\n",
    "\n",
    "        N = dct_vectors.shape[0]\n",
    "        dct_trans = torch.zeros([N, self.mask_size, self.mask_size], dtype=dct_vectors.dtype).to(device)\n",
    "        xs, ys = dct_vector_coords[:, 0], dct_vector_coords[:, 1]\n",
    "        dct_trans[:, xs, ys] = dct_vectors\n",
    "        mask_rc = scipy.fftpack.idctn(dct_trans.numpy(), norm='ortho')  # [N, mask_size, mask_size]\n",
    "        mask_rc = torch.from_numpy(mask_rc)\n",
    "        return mask_rc\n",
    "\n",
    "    def get_dct_vector_coords(self, r=128):\n",
    "        \"\"\"\n",
    "        Get the coordinates with zigzag order.\n",
    "        \"\"\"\n",
    "        dct_index = []\n",
    "        for i in range(r):\n",
    "            if i % 2 == 0:  # start with even number\n",
    "                index = [(i-j, j) for j in range(i+1)]\n",
    "                dct_index.extend(index)\n",
    "            else:\n",
    "                index = [(j, i-j) for j in range(i+1)]\n",
    "                dct_index.extend(index)\n",
    "        for i in range(r, 2*r-1):\n",
    "            if i % 2 == 0:\n",
    "                index = [(i-j, j) for j in range(i-r+1,r)]\n",
    "                dct_index.extend(index)\n",
    "            else:\n",
    "                index = [(j, i-j) for j in range(i-r+1,r)]\n",
    "                dct_index.extend(index)\n",
    "        dct_idxs = np.asarray(dct_index)\n",
    "        return dct_idxs"
   ]
  },
  {
   "cell_type": "code",
<<<<<<< HEAD
   "execution_count": 4,
=======
   "execution_count": 123,
>>>>>>> fe4b01dca9043729d6f74e643781bf12d6ff9ac9
   "id": "67ea453e",
   "metadata": {},
   "outputs": [],
   "source": [
    "mask_encoder = DctMaskEncoding(vec_dim=10000, mask_size=512)"
   ]
  },
  {
   "cell_type": "code",
<<<<<<< HEAD
   "execution_count": null,
=======
   "execution_count": 126,
>>>>>>> fe4b01dca9043729d6f74e643781bf12d6ff9ac9
   "id": "58d77c24",
   "metadata": {},
   "outputs": [
    {
     "name": "stderr",
     "output_type": "stream",
     "text": [
<<<<<<< HEAD
      "average dice = 0.954, average dice2 = 0.954:  18%|██████████████████████▍                                                                                                         | 71/404 [00:15<00:49,  6.77it/s]"
=======
      "average dice = 0.956: 100%|██████████████████████████████████████████████████████████████████████████████████████████████████████████████████████████████████████████████████████| 404/404 [01:18<00:00,  5.15it/s]\n"
>>>>>>> fe4b01dca9043729d6f74e643781bf12d6ff9ac9
     ]
    }
   ],
   "source": [
    "import losses\n",
<<<<<<< HEAD
    "from monai.metrics import compute_meandice\n",
=======
>>>>>>> fe4b01dca9043729d6f74e643781bf12d6ff9ac9
    "valid_metric = losses.dice_metric\n",
    "\n",
    "train_loader, valid_loader, test_loader = dataset.data_loader(batch_size=1, train_transform=val_transform, val_transform=val_transform)\n",
    "average_dice = 0 \n",
<<<<<<< HEAD
    "average_dice2 = 0 \n",
=======
>>>>>>> fe4b01dca9043729d6f74e643781bf12d6ff9ac9
    "tqdm_loader = tqdm(train_loader)\n",
    "for idx, (img_mlo, img_cc, mask1, mask2) in enumerate(tqdm_loader):\n",
    "    res = mask_encoder.encode(mask1[0])\n",
    "    restored = mask_encoder.decode(res)\n",
    "    dice = valid_metric(binarize_mask(restored[0], threshold=0.6), mask1[0][0])\n",
<<<<<<< HEAD
    "    dice2 = compute_meandice(binarize_mask(restored[0], threshold=0.6), mask1[0][0], include_background=False)\n",
    "    average_dice = (average_dice * idx + dice)/(idx + 1)\n",
    "    average_dice2 = (average_dice2 * idx + dice2)/(idx + 1)\n",
    "    tqdm_loader.set_description(f'average dice = {average_dice.item():.3f}, average dice2 = {average_dice2.item():.3f}')"
=======
    "    average_dice = (average_dice * idx + dice)/(idx + 1)\n",
    "    tqdm_loader.set_description(f'average dice = {average_dice.item():.3f}')"
>>>>>>> fe4b01dca9043729d6f74e643781bf12d6ff9ac9
   ]
  },
  {
   "cell_type": "code",
   "execution_count": null,
   "id": "6ccf4278",
   "metadata": {},
   "outputs": [],
   "source": [
    "mask_mlo: \n",
    "4096 - averge dice 0.935 - vec_dim=4096 -val_loader\n",
    "4096 - averge dice 0.941 - vec_dim=4096 - test_loader\n",
    "4096 - averge dice 0.9393 - vec_dim=4096 - train_loader\n",
    "\n",
    "mask_cc: \n",
    "4096 - average dice =0.936 - vec_dim 4096 - test_loader\n",
    "\n",
    "mask_cc: \n",
    "5000 - average dice =0.954 - vec_dim 5000 - test_loader\n",
    "5000 - average dice =0.943 - vec_dim 5000 - train_loader\n",
    "5000 - average dice =0.932 - vec_dim 5000 - val_loader\n",
    "\n",
    "\n",
    "mask_cc: \n",
    "10000 - average dice =0.958 - vec_dim 10000 - test_loader\n",
    "10000 - average dice =0.946 - vec_dim 10000 - valid_loader\n",
    "10000 - average dice =0.957 - vec_dim 10000 - train_loader\n",
    "\n",
    "\n",
    "mask_mlo:\n",
    "10000 - average dice =0.953 - vec_dim 10000 - val_loader\n",
    "10000 - average dice =0.957 - vec_dim 10000 - test_loader\n",
    "10000 - average dice =0.956 - vec_dim 10000 - train_loader"
   ]
  },
  {
   "cell_type": "code",
   "execution_count": 79,
   "id": "66999e93",
   "metadata": {},
   "outputs": [],
   "source": [
    "\n"
   ]
  },
  {
   "cell_type": "code",
   "execution_count": 253,
   "id": "9da5c50b",
   "metadata": {},
   "outputs": [],
   "source": [
    "from monai.networks.nets import UNet,UNETR"
   ]
  },
  {
   "cell_type": "code",
   "execution_count": 233,
   "id": "efb96f4f",
   "metadata": {},
   "outputs": [
    {
     "data": {
      "image/png": "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\n",
      "text/plain": [
       "<Figure size 1152x648 with 4 Axes>"
      ]
     },
     "metadata": {
      "needs_background": "light"
     },
     "output_type": "display_data"
    }
   ],
   "source": [
    "plt.figure(figsize=(16,9))\n",
    "plt.subplot(2, 2, 1)\n",
    "plt.imshow(mask_mlo1[0,0])\n",
    "plt.title('mlo1')\n",
    "plt.axis('off')\n",
    "plt.subplot(2, 2, 2)\n",
    "plt.imshow(mask_cc1[0,0])\n",
    "plt.title('cc1')\n",
    "plt.axis('off')\n",
    "plt.subplot(2, 2, 4)\n",
    "plt.imshow(mask_cc2[0,0])\n",
    "plt.title('cc2')\n",
    "plt.axis('off')\n",
    "plt.subplot(2, 2, 3)\n",
    "plt.imshow(mask_mlo2[0,0])\n",
    "plt.title('mlo2')\n",
    "plt.axis('off')\n",
    "plt.show()"
   ]
  },
  {
   "cell_type": "code",
   "execution_count": null,
   "id": "7d9e1e7c",
   "metadata": {},
   "outputs": [],
   "source": []
  },
  {
   "cell_type": "code",
   "execution_count": null,
   "id": "3f85c389",
   "metadata": {},
   "outputs": [],
   "source": []
  },
  {
   "cell_type": "code",
   "execution_count": null,
   "id": "83b252a8",
   "metadata": {},
   "outputs": [],
   "source": []
  },
  {
   "cell_type": "code",
   "execution_count": null,
   "id": "8c6a132d",
   "metadata": {},
   "outputs": [],
   "source": []
  },
  {
   "cell_type": "code",
   "execution_count": null,
   "id": "13c688f2",
   "metadata": {},
   "outputs": [],
   "source": []
  },
  {
   "cell_type": "code",
   "execution_count": null,
   "id": "59bfe51d",
   "metadata": {},
   "outputs": [],
   "source": []
  },
  {
   "cell_type": "code",
   "execution_count": null,
   "id": "16756a1d",
   "metadata": {},
   "outputs": [],
   "source": []
  },
  {
   "cell_type": "code",
   "execution_count": null,
   "id": "8817cd1a",
   "metadata": {},
   "outputs": [],
   "source": []
  },
  {
   "cell_type": "code",
   "execution_count": null,
   "id": "203871df",
   "metadata": {},
   "outputs": [],
   "source": []
  },
  {
   "cell_type": "code",
   "execution_count": null,
   "id": "95427ae9",
   "metadata": {},
   "outputs": [],
   "source": []
  },
  {
   "cell_type": "code",
   "execution_count": null,
   "id": "32fad30c",
   "metadata": {},
   "outputs": [],
   "source": [
    "pred_label_mlo = self.model(img_mlo)\n",
    "pred_label_cc = self.model(img_cc)\n",
    "\n",
    "vec1 = torch.sum(self.binarize_mask(pred_label_mlo), dim=(1, 2))\n",
    "vec2 = torch.sum(self.binarize_mask(pred_label_cc), dim=(1, 2))\n",
    "vec1 = vec1 / torch.norm(vec1)\n",
    "vec2 = vec2 / torch.norm(vec2)\n"
   ]
  },
  {
   "cell_type": "code",
   "execution_count": null,
   "id": "8f357ba1",
   "metadata": {},
   "outputs": [],
   "source": [
    "torch sum in x axis = average euclid dist = 169.820 - val_loader\n",
    "                                         = 204.332 - train_loader\n",
    "                                          = 186.87 - test_loader\n",
    "        \n",
    "             y axis = ................ = 214.483 - test_loader\n",
    "                                       = 236.243 - train_loader                                                                   \n",
    "                                       = 189.567 - val_loader"
   ]
  },
  {
   "cell_type": "code",
   "execution_count": null,
   "id": "50bdac77",
   "metadata": {},
   "outputs": [],
   "source": []
  },
  {
   "cell_type": "code",
   "execution_count": null,
   "id": "5d0dcd4b",
   "metadata": {},
   "outputs": [],
   "source": []
  },
  {
   "cell_type": "code",
   "execution_count": null,
   "id": "9e98c295",
   "metadata": {},
   "outputs": [],
   "source": []
  },
  {
   "cell_type": "code",
   "execution_count": null,
   "id": "9d54fd99",
   "metadata": {},
   "outputs": [],
   "source": []
  }
 ],
 "metadata": {
  "kernelspec": {
   "display_name": "Python 3 (ipykernel)",
   "language": "python",
   "name": "python3"
  },
  "language_info": {
   "codemirror_mode": {
    "name": "ipython",
    "version": 3
   },
   "file_extension": ".py",
   "mimetype": "text/x-python",
   "name": "python",
   "nbconvert_exporter": "python",
   "pygments_lexer": "ipython3",
   "version": "3.7.8"
  }
 },
 "nbformat": 4,
 "nbformat_minor": 5
}
